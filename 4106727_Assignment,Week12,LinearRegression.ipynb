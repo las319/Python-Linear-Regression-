{
 "cells": [
  {
   "cell_type": "code",
   "execution_count": 1,
   "metadata": {},
   "outputs": [],
   "source": [
    "#Import necessary libraries\n",
    "import pandas as pd\n",
    "import numpy as np"
   ]
  },
  {
   "cell_type": "code",
   "execution_count": 2,
   "metadata": {},
   "outputs": [],
   "source": [
    "#open and read both csv files\n",
    "df_mat = pd.read_csv(\"student-mat.csv\", sep=\";\")\n",
    "df_por = pd.read_csv(\"student-por.csv\", sep=\";\")"
   ]
  },
  {
   "cell_type": "code",
   "execution_count": 3,
   "metadata": {
    "collapsed": true
   },
   "outputs": [
    {
     "data": {
      "text/html": [
       "<div>\n",
       "<style scoped>\n",
       "    .dataframe tbody tr th:only-of-type {\n",
       "        vertical-align: middle;\n",
       "    }\n",
       "\n",
       "    .dataframe tbody tr th {\n",
       "        vertical-align: top;\n",
       "    }\n",
       "\n",
       "    .dataframe thead th {\n",
       "        text-align: right;\n",
       "    }\n",
       "</style>\n",
       "<table border=\"1\" class=\"dataframe\">\n",
       "  <thead>\n",
       "    <tr style=\"text-align: right;\">\n",
       "      <th></th>\n",
       "      <th>school</th>\n",
       "      <th>sex</th>\n",
       "      <th>age</th>\n",
       "      <th>address</th>\n",
       "      <th>famsize</th>\n",
       "      <th>Pstatus</th>\n",
       "      <th>Medu</th>\n",
       "      <th>Fedu</th>\n",
       "      <th>Mjob</th>\n",
       "      <th>Fjob</th>\n",
       "      <th>...</th>\n",
       "      <th>famrel</th>\n",
       "      <th>freetime</th>\n",
       "      <th>goout</th>\n",
       "      <th>Dalc</th>\n",
       "      <th>Walc</th>\n",
       "      <th>health</th>\n",
       "      <th>absences</th>\n",
       "      <th>G1</th>\n",
       "      <th>G2</th>\n",
       "      <th>G3</th>\n",
       "    </tr>\n",
       "  </thead>\n",
       "  <tbody>\n",
       "    <tr>\n",
       "      <th>7</th>\n",
       "      <td>GP</td>\n",
       "      <td>F</td>\n",
       "      <td>17</td>\n",
       "      <td>U</td>\n",
       "      <td>GT3</td>\n",
       "      <td>A</td>\n",
       "      <td>4</td>\n",
       "      <td>4</td>\n",
       "      <td>other</td>\n",
       "      <td>teacher</td>\n",
       "      <td>...</td>\n",
       "      <td>4</td>\n",
       "      <td>1</td>\n",
       "      <td>4</td>\n",
       "      <td>1</td>\n",
       "      <td>1</td>\n",
       "      <td>1</td>\n",
       "      <td>6</td>\n",
       "      <td>6</td>\n",
       "      <td>5</td>\n",
       "      <td>6</td>\n",
       "    </tr>\n",
       "    <tr>\n",
       "      <th>277</th>\n",
       "      <td>GP</td>\n",
       "      <td>M</td>\n",
       "      <td>18</td>\n",
       "      <td>U</td>\n",
       "      <td>GT3</td>\n",
       "      <td>T</td>\n",
       "      <td>4</td>\n",
       "      <td>4</td>\n",
       "      <td>teacher</td>\n",
       "      <td>services</td>\n",
       "      <td>...</td>\n",
       "      <td>3</td>\n",
       "      <td>2</td>\n",
       "      <td>4</td>\n",
       "      <td>1</td>\n",
       "      <td>4</td>\n",
       "      <td>3</td>\n",
       "      <td>22</td>\n",
       "      <td>9</td>\n",
       "      <td>9</td>\n",
       "      <td>9</td>\n",
       "    </tr>\n",
       "    <tr>\n",
       "      <th>371</th>\n",
       "      <td>MS</td>\n",
       "      <td>M</td>\n",
       "      <td>18</td>\n",
       "      <td>R</td>\n",
       "      <td>LE3</td>\n",
       "      <td>T</td>\n",
       "      <td>1</td>\n",
       "      <td>2</td>\n",
       "      <td>at_home</td>\n",
       "      <td>services</td>\n",
       "      <td>...</td>\n",
       "      <td>4</td>\n",
       "      <td>3</td>\n",
       "      <td>3</td>\n",
       "      <td>2</td>\n",
       "      <td>3</td>\n",
       "      <td>3</td>\n",
       "      <td>3</td>\n",
       "      <td>14</td>\n",
       "      <td>12</td>\n",
       "      <td>12</td>\n",
       "    </tr>\n",
       "    <tr>\n",
       "      <th>257</th>\n",
       "      <td>GP</td>\n",
       "      <td>M</td>\n",
       "      <td>19</td>\n",
       "      <td>U</td>\n",
       "      <td>LE3</td>\n",
       "      <td>A</td>\n",
       "      <td>4</td>\n",
       "      <td>3</td>\n",
       "      <td>services</td>\n",
       "      <td>at_home</td>\n",
       "      <td>...</td>\n",
       "      <td>4</td>\n",
       "      <td>3</td>\n",
       "      <td>1</td>\n",
       "      <td>1</td>\n",
       "      <td>1</td>\n",
       "      <td>1</td>\n",
       "      <td>12</td>\n",
       "      <td>11</td>\n",
       "      <td>11</td>\n",
       "      <td>11</td>\n",
       "    </tr>\n",
       "    <tr>\n",
       "      <th>298</th>\n",
       "      <td>GP</td>\n",
       "      <td>F</td>\n",
       "      <td>18</td>\n",
       "      <td>U</td>\n",
       "      <td>GT3</td>\n",
       "      <td>T</td>\n",
       "      <td>4</td>\n",
       "      <td>3</td>\n",
       "      <td>other</td>\n",
       "      <td>other</td>\n",
       "      <td>...</td>\n",
       "      <td>4</td>\n",
       "      <td>3</td>\n",
       "      <td>3</td>\n",
       "      <td>1</td>\n",
       "      <td>1</td>\n",
       "      <td>3</td>\n",
       "      <td>0</td>\n",
       "      <td>14</td>\n",
       "      <td>13</td>\n",
       "      <td>14</td>\n",
       "    </tr>\n",
       "    <tr>\n",
       "      <th>197</th>\n",
       "      <td>GP</td>\n",
       "      <td>M</td>\n",
       "      <td>16</td>\n",
       "      <td>R</td>\n",
       "      <td>LE3</td>\n",
       "      <td>T</td>\n",
       "      <td>3</td>\n",
       "      <td>3</td>\n",
       "      <td>teacher</td>\n",
       "      <td>other</td>\n",
       "      <td>...</td>\n",
       "      <td>3</td>\n",
       "      <td>3</td>\n",
       "      <td>4</td>\n",
       "      <td>3</td>\n",
       "      <td>5</td>\n",
       "      <td>3</td>\n",
       "      <td>8</td>\n",
       "      <td>9</td>\n",
       "      <td>9</td>\n",
       "      <td>10</td>\n",
       "    </tr>\n",
       "    <tr>\n",
       "      <th>359</th>\n",
       "      <td>MS</td>\n",
       "      <td>F</td>\n",
       "      <td>18</td>\n",
       "      <td>U</td>\n",
       "      <td>LE3</td>\n",
       "      <td>T</td>\n",
       "      <td>1</td>\n",
       "      <td>1</td>\n",
       "      <td>at_home</td>\n",
       "      <td>services</td>\n",
       "      <td>...</td>\n",
       "      <td>5</td>\n",
       "      <td>3</td>\n",
       "      <td>2</td>\n",
       "      <td>1</td>\n",
       "      <td>1</td>\n",
       "      <td>4</td>\n",
       "      <td>0</td>\n",
       "      <td>18</td>\n",
       "      <td>16</td>\n",
       "      <td>16</td>\n",
       "    </tr>\n",
       "    <tr>\n",
       "      <th>344</th>\n",
       "      <td>GP</td>\n",
       "      <td>F</td>\n",
       "      <td>18</td>\n",
       "      <td>U</td>\n",
       "      <td>GT3</td>\n",
       "      <td>T</td>\n",
       "      <td>2</td>\n",
       "      <td>3</td>\n",
       "      <td>at_home</td>\n",
       "      <td>other</td>\n",
       "      <td>...</td>\n",
       "      <td>4</td>\n",
       "      <td>3</td>\n",
       "      <td>3</td>\n",
       "      <td>1</td>\n",
       "      <td>2</td>\n",
       "      <td>3</td>\n",
       "      <td>4</td>\n",
       "      <td>11</td>\n",
       "      <td>10</td>\n",
       "      <td>10</td>\n",
       "    </tr>\n",
       "    <tr>\n",
       "      <th>356</th>\n",
       "      <td>MS</td>\n",
       "      <td>F</td>\n",
       "      <td>17</td>\n",
       "      <td>R</td>\n",
       "      <td>GT3</td>\n",
       "      <td>T</td>\n",
       "      <td>4</td>\n",
       "      <td>4</td>\n",
       "      <td>teacher</td>\n",
       "      <td>services</td>\n",
       "      <td>...</td>\n",
       "      <td>4</td>\n",
       "      <td>3</td>\n",
       "      <td>3</td>\n",
       "      <td>1</td>\n",
       "      <td>2</td>\n",
       "      <td>5</td>\n",
       "      <td>4</td>\n",
       "      <td>12</td>\n",
       "      <td>13</td>\n",
       "      <td>13</td>\n",
       "    </tr>\n",
       "    <tr>\n",
       "      <th>247</th>\n",
       "      <td>GP</td>\n",
       "      <td>M</td>\n",
       "      <td>22</td>\n",
       "      <td>U</td>\n",
       "      <td>GT3</td>\n",
       "      <td>T</td>\n",
       "      <td>3</td>\n",
       "      <td>1</td>\n",
       "      <td>services</td>\n",
       "      <td>services</td>\n",
       "      <td>...</td>\n",
       "      <td>5</td>\n",
       "      <td>4</td>\n",
       "      <td>5</td>\n",
       "      <td>5</td>\n",
       "      <td>5</td>\n",
       "      <td>1</td>\n",
       "      <td>16</td>\n",
       "      <td>6</td>\n",
       "      <td>8</td>\n",
       "      <td>8</td>\n",
       "    </tr>\n",
       "  </tbody>\n",
       "</table>\n",
       "<p>10 rows × 33 columns</p>\n",
       "</div>"
      ],
      "text/plain": [
       "    school sex  age address famsize Pstatus  Medu  Fedu      Mjob      Fjob  \\\n",
       "7       GP   F   17       U     GT3       A     4     4     other   teacher   \n",
       "277     GP   M   18       U     GT3       T     4     4   teacher  services   \n",
       "371     MS   M   18       R     LE3       T     1     2   at_home  services   \n",
       "257     GP   M   19       U     LE3       A     4     3  services   at_home   \n",
       "298     GP   F   18       U     GT3       T     4     3     other     other   \n",
       "197     GP   M   16       R     LE3       T     3     3   teacher     other   \n",
       "359     MS   F   18       U     LE3       T     1     1   at_home  services   \n",
       "344     GP   F   18       U     GT3       T     2     3   at_home     other   \n",
       "356     MS   F   17       R     GT3       T     4     4   teacher  services   \n",
       "247     GP   M   22       U     GT3       T     3     1  services  services   \n",
       "\n",
       "     ... famrel freetime  goout  Dalc  Walc health absences  G1  G2  G3  \n",
       "7    ...      4        1      4     1     1      1        6   6   5   6  \n",
       "277  ...      3        2      4     1     4      3       22   9   9   9  \n",
       "371  ...      4        3      3     2     3      3        3  14  12  12  \n",
       "257  ...      4        3      1     1     1      1       12  11  11  11  \n",
       "298  ...      4        3      3     1     1      3        0  14  13  14  \n",
       "197  ...      3        3      4     3     5      3        8   9   9  10  \n",
       "359  ...      5        3      2     1     1      4        0  18  16  16  \n",
       "344  ...      4        3      3     1     2      3        4  11  10  10  \n",
       "356  ...      4        3      3     1     2      5        4  12  13  13  \n",
       "247  ...      5        4      5     5     5      1       16   6   8   8  \n",
       "\n",
       "[10 rows x 33 columns]"
      ]
     },
     "execution_count": 3,
     "metadata": {},
     "output_type": "execute_result"
    }
   ],
   "source": [
    "#check to see that delimination by ; worked\n",
    "df_mat.sample(10)"
   ]
  },
  {
   "cell_type": "code",
   "execution_count": 4,
   "metadata": {
    "collapsed": true
   },
   "outputs": [
    {
     "data": {
      "text/html": [
       "<div>\n",
       "<style scoped>\n",
       "    .dataframe tbody tr th:only-of-type {\n",
       "        vertical-align: middle;\n",
       "    }\n",
       "\n",
       "    .dataframe tbody tr th {\n",
       "        vertical-align: top;\n",
       "    }\n",
       "\n",
       "    .dataframe thead th {\n",
       "        text-align: right;\n",
       "    }\n",
       "</style>\n",
       "<table border=\"1\" class=\"dataframe\">\n",
       "  <thead>\n",
       "    <tr style=\"text-align: right;\">\n",
       "      <th></th>\n",
       "      <th>school</th>\n",
       "      <th>sex</th>\n",
       "      <th>age</th>\n",
       "      <th>address</th>\n",
       "      <th>famsize</th>\n",
       "      <th>Pstatus</th>\n",
       "      <th>Medu</th>\n",
       "      <th>Fedu</th>\n",
       "      <th>Mjob</th>\n",
       "      <th>Fjob</th>\n",
       "      <th>...</th>\n",
       "      <th>famrel</th>\n",
       "      <th>freetime</th>\n",
       "      <th>goout</th>\n",
       "      <th>Dalc</th>\n",
       "      <th>Walc</th>\n",
       "      <th>health</th>\n",
       "      <th>absences</th>\n",
       "      <th>G1</th>\n",
       "      <th>G2</th>\n",
       "      <th>G3</th>\n",
       "    </tr>\n",
       "  </thead>\n",
       "  <tbody>\n",
       "    <tr>\n",
       "      <th>535</th>\n",
       "      <td>MS</td>\n",
       "      <td>M</td>\n",
       "      <td>15</td>\n",
       "      <td>R</td>\n",
       "      <td>GT3</td>\n",
       "      <td>T</td>\n",
       "      <td>1</td>\n",
       "      <td>2</td>\n",
       "      <td>other</td>\n",
       "      <td>services</td>\n",
       "      <td>...</td>\n",
       "      <td>5</td>\n",
       "      <td>5</td>\n",
       "      <td>5</td>\n",
       "      <td>1</td>\n",
       "      <td>3</td>\n",
       "      <td>5</td>\n",
       "      <td>11</td>\n",
       "      <td>9</td>\n",
       "      <td>11</td>\n",
       "      <td>10</td>\n",
       "    </tr>\n",
       "    <tr>\n",
       "      <th>24</th>\n",
       "      <td>GP</td>\n",
       "      <td>F</td>\n",
       "      <td>15</td>\n",
       "      <td>R</td>\n",
       "      <td>GT3</td>\n",
       "      <td>T</td>\n",
       "      <td>2</td>\n",
       "      <td>4</td>\n",
       "      <td>services</td>\n",
       "      <td>health</td>\n",
       "      <td>...</td>\n",
       "      <td>4</td>\n",
       "      <td>3</td>\n",
       "      <td>2</td>\n",
       "      <td>1</td>\n",
       "      <td>1</td>\n",
       "      <td>5</td>\n",
       "      <td>2</td>\n",
       "      <td>10</td>\n",
       "      <td>11</td>\n",
       "      <td>10</td>\n",
       "    </tr>\n",
       "    <tr>\n",
       "      <th>139</th>\n",
       "      <td>GP</td>\n",
       "      <td>F</td>\n",
       "      <td>15</td>\n",
       "      <td>U</td>\n",
       "      <td>GT3</td>\n",
       "      <td>T</td>\n",
       "      <td>4</td>\n",
       "      <td>4</td>\n",
       "      <td>services</td>\n",
       "      <td>at_home</td>\n",
       "      <td>...</td>\n",
       "      <td>4</td>\n",
       "      <td>3</td>\n",
       "      <td>3</td>\n",
       "      <td>1</td>\n",
       "      <td>1</td>\n",
       "      <td>5</td>\n",
       "      <td>4</td>\n",
       "      <td>13</td>\n",
       "      <td>14</td>\n",
       "      <td>15</td>\n",
       "    </tr>\n",
       "    <tr>\n",
       "      <th>418</th>\n",
       "      <td>GP</td>\n",
       "      <td>M</td>\n",
       "      <td>18</td>\n",
       "      <td>R</td>\n",
       "      <td>GT3</td>\n",
       "      <td>T</td>\n",
       "      <td>2</td>\n",
       "      <td>3</td>\n",
       "      <td>other</td>\n",
       "      <td>services</td>\n",
       "      <td>...</td>\n",
       "      <td>3</td>\n",
       "      <td>1</td>\n",
       "      <td>3</td>\n",
       "      <td>4</td>\n",
       "      <td>5</td>\n",
       "      <td>4</td>\n",
       "      <td>13</td>\n",
       "      <td>13</td>\n",
       "      <td>14</td>\n",
       "      <td>14</td>\n",
       "    </tr>\n",
       "    <tr>\n",
       "      <th>256</th>\n",
       "      <td>GP</td>\n",
       "      <td>M</td>\n",
       "      <td>18</td>\n",
       "      <td>U</td>\n",
       "      <td>GT3</td>\n",
       "      <td>T</td>\n",
       "      <td>2</td>\n",
       "      <td>2</td>\n",
       "      <td>other</td>\n",
       "      <td>at_home</td>\n",
       "      <td>...</td>\n",
       "      <td>4</td>\n",
       "      <td>4</td>\n",
       "      <td>3</td>\n",
       "      <td>2</td>\n",
       "      <td>2</td>\n",
       "      <td>1</td>\n",
       "      <td>26</td>\n",
       "      <td>7</td>\n",
       "      <td>8</td>\n",
       "      <td>8</td>\n",
       "    </tr>\n",
       "    <tr>\n",
       "      <th>538</th>\n",
       "      <td>MS</td>\n",
       "      <td>F</td>\n",
       "      <td>16</td>\n",
       "      <td>R</td>\n",
       "      <td>LE3</td>\n",
       "      <td>T</td>\n",
       "      <td>2</td>\n",
       "      <td>2</td>\n",
       "      <td>other</td>\n",
       "      <td>other</td>\n",
       "      <td>...</td>\n",
       "      <td>4</td>\n",
       "      <td>3</td>\n",
       "      <td>3</td>\n",
       "      <td>2</td>\n",
       "      <td>2</td>\n",
       "      <td>5</td>\n",
       "      <td>2</td>\n",
       "      <td>11</td>\n",
       "      <td>11</td>\n",
       "      <td>11</td>\n",
       "    </tr>\n",
       "    <tr>\n",
       "      <th>628</th>\n",
       "      <td>MS</td>\n",
       "      <td>F</td>\n",
       "      <td>17</td>\n",
       "      <td>U</td>\n",
       "      <td>GT3</td>\n",
       "      <td>T</td>\n",
       "      <td>2</td>\n",
       "      <td>2</td>\n",
       "      <td>other</td>\n",
       "      <td>at_home</td>\n",
       "      <td>...</td>\n",
       "      <td>3</td>\n",
       "      <td>4</td>\n",
       "      <td>3</td>\n",
       "      <td>1</td>\n",
       "      <td>1</td>\n",
       "      <td>3</td>\n",
       "      <td>8</td>\n",
       "      <td>10</td>\n",
       "      <td>11</td>\n",
       "      <td>12</td>\n",
       "    </tr>\n",
       "    <tr>\n",
       "      <th>358</th>\n",
       "      <td>GP</td>\n",
       "      <td>F</td>\n",
       "      <td>18</td>\n",
       "      <td>U</td>\n",
       "      <td>LE3</td>\n",
       "      <td>T</td>\n",
       "      <td>4</td>\n",
       "      <td>3</td>\n",
       "      <td>health</td>\n",
       "      <td>services</td>\n",
       "      <td>...</td>\n",
       "      <td>3</td>\n",
       "      <td>2</td>\n",
       "      <td>4</td>\n",
       "      <td>1</td>\n",
       "      <td>4</td>\n",
       "      <td>1</td>\n",
       "      <td>8</td>\n",
       "      <td>12</td>\n",
       "      <td>12</td>\n",
       "      <td>15</td>\n",
       "    </tr>\n",
       "    <tr>\n",
       "      <th>34</th>\n",
       "      <td>GP</td>\n",
       "      <td>M</td>\n",
       "      <td>16</td>\n",
       "      <td>U</td>\n",
       "      <td>GT3</td>\n",
       "      <td>T</td>\n",
       "      <td>3</td>\n",
       "      <td>2</td>\n",
       "      <td>other</td>\n",
       "      <td>other</td>\n",
       "      <td>...</td>\n",
       "      <td>5</td>\n",
       "      <td>4</td>\n",
       "      <td>3</td>\n",
       "      <td>1</td>\n",
       "      <td>1</td>\n",
       "      <td>5</td>\n",
       "      <td>4</td>\n",
       "      <td>12</td>\n",
       "      <td>12</td>\n",
       "      <td>12</td>\n",
       "    </tr>\n",
       "    <tr>\n",
       "      <th>69</th>\n",
       "      <td>GP</td>\n",
       "      <td>F</td>\n",
       "      <td>15</td>\n",
       "      <td>R</td>\n",
       "      <td>LE3</td>\n",
       "      <td>T</td>\n",
       "      <td>3</td>\n",
       "      <td>1</td>\n",
       "      <td>other</td>\n",
       "      <td>other</td>\n",
       "      <td>...</td>\n",
       "      <td>4</td>\n",
       "      <td>4</td>\n",
       "      <td>2</td>\n",
       "      <td>2</td>\n",
       "      <td>3</td>\n",
       "      <td>3</td>\n",
       "      <td>6</td>\n",
       "      <td>15</td>\n",
       "      <td>15</td>\n",
       "      <td>15</td>\n",
       "    </tr>\n",
       "  </tbody>\n",
       "</table>\n",
       "<p>10 rows × 33 columns</p>\n",
       "</div>"
      ],
      "text/plain": [
       "    school sex  age address famsize Pstatus  Medu  Fedu      Mjob      Fjob  \\\n",
       "535     MS   M   15       R     GT3       T     1     2     other  services   \n",
       "24      GP   F   15       R     GT3       T     2     4  services    health   \n",
       "139     GP   F   15       U     GT3       T     4     4  services   at_home   \n",
       "418     GP   M   18       R     GT3       T     2     3     other  services   \n",
       "256     GP   M   18       U     GT3       T     2     2     other   at_home   \n",
       "538     MS   F   16       R     LE3       T     2     2     other     other   \n",
       "628     MS   F   17       U     GT3       T     2     2     other   at_home   \n",
       "358     GP   F   18       U     LE3       T     4     3    health  services   \n",
       "34      GP   M   16       U     GT3       T     3     2     other     other   \n",
       "69      GP   F   15       R     LE3       T     3     1     other     other   \n",
       "\n",
       "     ... famrel freetime  goout  Dalc  Walc health absences  G1  G2  G3  \n",
       "535  ...      5        5      5     1     3      5       11   9  11  10  \n",
       "24   ...      4        3      2     1     1      5        2  10  11  10  \n",
       "139  ...      4        3      3     1     1      5        4  13  14  15  \n",
       "418  ...      3        1      3     4     5      4       13  13  14  14  \n",
       "256  ...      4        4      3     2     2      1       26   7   8   8  \n",
       "538  ...      4        3      3     2     2      5        2  11  11  11  \n",
       "628  ...      3        4      3     1     1      3        8  10  11  12  \n",
       "358  ...      3        2      4     1     4      1        8  12  12  15  \n",
       "34   ...      5        4      3     1     1      5        4  12  12  12  \n",
       "69   ...      4        4      2     2     3      3        6  15  15  15  \n",
       "\n",
       "[10 rows x 33 columns]"
      ]
     },
     "execution_count": 4,
     "metadata": {},
     "output_type": "execute_result"
    }
   ],
   "source": [
    "#check to see that delimination by ; worked\n",
    "df_por.sample(10)"
   ]
  },
  {
   "cell_type": "code",
   "execution_count": 5,
   "metadata": {},
   "outputs": [
    {
     "data": {
      "text/plain": [
       "(395, 33)"
      ]
     },
     "execution_count": 5,
     "metadata": {},
     "output_type": "execute_result"
    }
   ],
   "source": [
    "#see the size of both separate dataframes to make sure the future merge works correctly\n",
    "df_mat.shape"
   ]
  },
  {
   "cell_type": "code",
   "execution_count": 6,
   "metadata": {},
   "outputs": [
    {
     "data": {
      "text/plain": [
       "(649, 33)"
      ]
     },
     "execution_count": 6,
     "metadata": {},
     "output_type": "execute_result"
    }
   ],
   "source": [
    "df_por.shape"
   ]
  },
  {
   "cell_type": "code",
   "execution_count": 7,
   "metadata": {},
   "outputs": [],
   "source": [
    "#there should be a total of (1044,33)"
   ]
  },
  {
   "cell_type": "code",
   "execution_count": 8,
   "metadata": {},
   "outputs": [],
   "source": [
    "#merged/combine the two files into one new dataframe by concatenating\n",
    "df_merged = pd.concat([df_mat, df_por], axis=0)"
   ]
  },
  {
   "cell_type": "code",
   "execution_count": 9,
   "metadata": {},
   "outputs": [
    {
     "data": {
      "text/plain": [
       "(1044, 33)"
      ]
     },
     "execution_count": 9,
     "metadata": {},
     "output_type": "execute_result"
    }
   ],
   "source": [
    "#verify that merge worked\n",
    "df_merged.shape\n",
    "#(1044,33) is as expected = merged worked"
   ]
  },
  {
   "cell_type": "code",
   "execution_count": 10,
   "metadata": {
    "collapsed": true
   },
   "outputs": [
    {
     "data": {
      "text/html": [
       "<div>\n",
       "<style scoped>\n",
       "    .dataframe tbody tr th:only-of-type {\n",
       "        vertical-align: middle;\n",
       "    }\n",
       "\n",
       "    .dataframe tbody tr th {\n",
       "        vertical-align: top;\n",
       "    }\n",
       "\n",
       "    .dataframe thead th {\n",
       "        text-align: right;\n",
       "    }\n",
       "</style>\n",
       "<table border=\"1\" class=\"dataframe\">\n",
       "  <thead>\n",
       "    <tr style=\"text-align: right;\">\n",
       "      <th></th>\n",
       "      <th>school</th>\n",
       "      <th>sex</th>\n",
       "      <th>age</th>\n",
       "      <th>address</th>\n",
       "      <th>famsize</th>\n",
       "      <th>Pstatus</th>\n",
       "      <th>Medu</th>\n",
       "      <th>Fedu</th>\n",
       "      <th>Mjob</th>\n",
       "      <th>Fjob</th>\n",
       "      <th>...</th>\n",
       "      <th>famrel</th>\n",
       "      <th>freetime</th>\n",
       "      <th>goout</th>\n",
       "      <th>Dalc</th>\n",
       "      <th>Walc</th>\n",
       "      <th>health</th>\n",
       "      <th>absences</th>\n",
       "      <th>G1</th>\n",
       "      <th>G2</th>\n",
       "      <th>G3</th>\n",
       "    </tr>\n",
       "  </thead>\n",
       "  <tbody>\n",
       "    <tr>\n",
       "      <th>216</th>\n",
       "      <td>GP</td>\n",
       "      <td>F</td>\n",
       "      <td>17</td>\n",
       "      <td>U</td>\n",
       "      <td>GT3</td>\n",
       "      <td>T</td>\n",
       "      <td>1</td>\n",
       "      <td>1</td>\n",
       "      <td>other</td>\n",
       "      <td>other</td>\n",
       "      <td>...</td>\n",
       "      <td>4</td>\n",
       "      <td>4</td>\n",
       "      <td>4</td>\n",
       "      <td>1</td>\n",
       "      <td>3</td>\n",
       "      <td>1</td>\n",
       "      <td>0</td>\n",
       "      <td>14</td>\n",
       "      <td>15</td>\n",
       "      <td>15</td>\n",
       "    </tr>\n",
       "    <tr>\n",
       "      <th>331</th>\n",
       "      <td>GP</td>\n",
       "      <td>F</td>\n",
       "      <td>17</td>\n",
       "      <td>R</td>\n",
       "      <td>GT3</td>\n",
       "      <td>T</td>\n",
       "      <td>2</td>\n",
       "      <td>4</td>\n",
       "      <td>at_home</td>\n",
       "      <td>other</td>\n",
       "      <td>...</td>\n",
       "      <td>4</td>\n",
       "      <td>4</td>\n",
       "      <td>3</td>\n",
       "      <td>1</td>\n",
       "      <td>1</td>\n",
       "      <td>5</td>\n",
       "      <td>7</td>\n",
       "      <td>12</td>\n",
       "      <td>14</td>\n",
       "      <td>14</td>\n",
       "    </tr>\n",
       "    <tr>\n",
       "      <th>7</th>\n",
       "      <td>GP</td>\n",
       "      <td>F</td>\n",
       "      <td>17</td>\n",
       "      <td>U</td>\n",
       "      <td>GT3</td>\n",
       "      <td>A</td>\n",
       "      <td>4</td>\n",
       "      <td>4</td>\n",
       "      <td>other</td>\n",
       "      <td>teacher</td>\n",
       "      <td>...</td>\n",
       "      <td>4</td>\n",
       "      <td>1</td>\n",
       "      <td>4</td>\n",
       "      <td>1</td>\n",
       "      <td>1</td>\n",
       "      <td>1</td>\n",
       "      <td>6</td>\n",
       "      <td>6</td>\n",
       "      <td>5</td>\n",
       "      <td>6</td>\n",
       "    </tr>\n",
       "    <tr>\n",
       "      <th>69</th>\n",
       "      <td>GP</td>\n",
       "      <td>F</td>\n",
       "      <td>15</td>\n",
       "      <td>R</td>\n",
       "      <td>LE3</td>\n",
       "      <td>T</td>\n",
       "      <td>3</td>\n",
       "      <td>1</td>\n",
       "      <td>other</td>\n",
       "      <td>other</td>\n",
       "      <td>...</td>\n",
       "      <td>4</td>\n",
       "      <td>4</td>\n",
       "      <td>2</td>\n",
       "      <td>2</td>\n",
       "      <td>3</td>\n",
       "      <td>3</td>\n",
       "      <td>6</td>\n",
       "      <td>15</td>\n",
       "      <td>15</td>\n",
       "      <td>15</td>\n",
       "    </tr>\n",
       "    <tr>\n",
       "      <th>182</th>\n",
       "      <td>GP</td>\n",
       "      <td>F</td>\n",
       "      <td>16</td>\n",
       "      <td>U</td>\n",
       "      <td>GT3</td>\n",
       "      <td>T</td>\n",
       "      <td>2</td>\n",
       "      <td>2</td>\n",
       "      <td>other</td>\n",
       "      <td>other</td>\n",
       "      <td>...</td>\n",
       "      <td>5</td>\n",
       "      <td>1</td>\n",
       "      <td>5</td>\n",
       "      <td>1</td>\n",
       "      <td>1</td>\n",
       "      <td>4</td>\n",
       "      <td>0</td>\n",
       "      <td>12</td>\n",
       "      <td>12</td>\n",
       "      <td>13</td>\n",
       "    </tr>\n",
       "    <tr>\n",
       "      <th>230</th>\n",
       "      <td>GP</td>\n",
       "      <td>F</td>\n",
       "      <td>17</td>\n",
       "      <td>U</td>\n",
       "      <td>LE3</td>\n",
       "      <td>T</td>\n",
       "      <td>4</td>\n",
       "      <td>3</td>\n",
       "      <td>health</td>\n",
       "      <td>other</td>\n",
       "      <td>...</td>\n",
       "      <td>3</td>\n",
       "      <td>2</td>\n",
       "      <td>3</td>\n",
       "      <td>1</td>\n",
       "      <td>2</td>\n",
       "      <td>3</td>\n",
       "      <td>14</td>\n",
       "      <td>13</td>\n",
       "      <td>13</td>\n",
       "      <td>14</td>\n",
       "    </tr>\n",
       "    <tr>\n",
       "      <th>241</th>\n",
       "      <td>GP</td>\n",
       "      <td>M</td>\n",
       "      <td>17</td>\n",
       "      <td>U</td>\n",
       "      <td>LE3</td>\n",
       "      <td>T</td>\n",
       "      <td>2</td>\n",
       "      <td>3</td>\n",
       "      <td>services</td>\n",
       "      <td>services</td>\n",
       "      <td>...</td>\n",
       "      <td>5</td>\n",
       "      <td>3</td>\n",
       "      <td>3</td>\n",
       "      <td>1</td>\n",
       "      <td>3</td>\n",
       "      <td>3</td>\n",
       "      <td>0</td>\n",
       "      <td>10</td>\n",
       "      <td>11</td>\n",
       "      <td>11</td>\n",
       "    </tr>\n",
       "    <tr>\n",
       "      <th>232</th>\n",
       "      <td>GP</td>\n",
       "      <td>F</td>\n",
       "      <td>17</td>\n",
       "      <td>U</td>\n",
       "      <td>GT3</td>\n",
       "      <td>T</td>\n",
       "      <td>2</td>\n",
       "      <td>3</td>\n",
       "      <td>at_home</td>\n",
       "      <td>other</td>\n",
       "      <td>...</td>\n",
       "      <td>3</td>\n",
       "      <td>3</td>\n",
       "      <td>3</td>\n",
       "      <td>1</td>\n",
       "      <td>4</td>\n",
       "      <td>3</td>\n",
       "      <td>4</td>\n",
       "      <td>12</td>\n",
       "      <td>13</td>\n",
       "      <td>13</td>\n",
       "    </tr>\n",
       "    <tr>\n",
       "      <th>200</th>\n",
       "      <td>GP</td>\n",
       "      <td>F</td>\n",
       "      <td>16</td>\n",
       "      <td>U</td>\n",
       "      <td>GT3</td>\n",
       "      <td>T</td>\n",
       "      <td>4</td>\n",
       "      <td>3</td>\n",
       "      <td>health</td>\n",
       "      <td>other</td>\n",
       "      <td>...</td>\n",
       "      <td>4</td>\n",
       "      <td>3</td>\n",
       "      <td>5</td>\n",
       "      <td>1</td>\n",
       "      <td>5</td>\n",
       "      <td>2</td>\n",
       "      <td>2</td>\n",
       "      <td>16</td>\n",
       "      <td>16</td>\n",
       "      <td>16</td>\n",
       "    </tr>\n",
       "    <tr>\n",
       "      <th>41</th>\n",
       "      <td>GP</td>\n",
       "      <td>M</td>\n",
       "      <td>15</td>\n",
       "      <td>U</td>\n",
       "      <td>LE3</td>\n",
       "      <td>T</td>\n",
       "      <td>4</td>\n",
       "      <td>4</td>\n",
       "      <td>teacher</td>\n",
       "      <td>other</td>\n",
       "      <td>...</td>\n",
       "      <td>5</td>\n",
       "      <td>4</td>\n",
       "      <td>3</td>\n",
       "      <td>2</td>\n",
       "      <td>4</td>\n",
       "      <td>5</td>\n",
       "      <td>8</td>\n",
       "      <td>10</td>\n",
       "      <td>11</td>\n",
       "      <td>11</td>\n",
       "    </tr>\n",
       "  </tbody>\n",
       "</table>\n",
       "<p>10 rows × 33 columns</p>\n",
       "</div>"
      ],
      "text/plain": [
       "    school sex  age address famsize Pstatus  Medu  Fedu      Mjob      Fjob  \\\n",
       "216     GP   F   17       U     GT3       T     1     1     other     other   \n",
       "331     GP   F   17       R     GT3       T     2     4   at_home     other   \n",
       "7       GP   F   17       U     GT3       A     4     4     other   teacher   \n",
       "69      GP   F   15       R     LE3       T     3     1     other     other   \n",
       "182     GP   F   16       U     GT3       T     2     2     other     other   \n",
       "230     GP   F   17       U     LE3       T     4     3    health     other   \n",
       "241     GP   M   17       U     LE3       T     2     3  services  services   \n",
       "232     GP   F   17       U     GT3       T     2     3   at_home     other   \n",
       "200     GP   F   16       U     GT3       T     4     3    health     other   \n",
       "41      GP   M   15       U     LE3       T     4     4   teacher     other   \n",
       "\n",
       "     ... famrel freetime  goout  Dalc  Walc health absences  G1  G2  G3  \n",
       "216  ...      4        4      4     1     3      1        0  14  15  15  \n",
       "331  ...      4        4      3     1     1      5        7  12  14  14  \n",
       "7    ...      4        1      4     1     1      1        6   6   5   6  \n",
       "69   ...      4        4      2     2     3      3        6  15  15  15  \n",
       "182  ...      5        1      5     1     1      4        0  12  12  13  \n",
       "230  ...      3        2      3     1     2      3       14  13  13  14  \n",
       "241  ...      5        3      3     1     3      3        0  10  11  11  \n",
       "232  ...      3        3      3     1     4      3        4  12  13  13  \n",
       "200  ...      4        3      5     1     5      2        2  16  16  16  \n",
       "41   ...      5        4      3     2     4      5        8  10  11  11  \n",
       "\n",
       "[10 rows x 33 columns]"
      ]
     },
     "execution_count": 10,
     "metadata": {},
     "output_type": "execute_result"
    }
   ],
   "source": [
    "#explore the new dataframe\n",
    "df_merged.sample(10)"
   ]
  },
  {
   "cell_type": "code",
   "execution_count": 11,
   "metadata": {
    "collapsed": true
   },
   "outputs": [
    {
     "data": {
      "text/html": [
       "<div>\n",
       "<style scoped>\n",
       "    .dataframe tbody tr th:only-of-type {\n",
       "        vertical-align: middle;\n",
       "    }\n",
       "\n",
       "    .dataframe tbody tr th {\n",
       "        vertical-align: top;\n",
       "    }\n",
       "\n",
       "    .dataframe thead th {\n",
       "        text-align: right;\n",
       "    }\n",
       "</style>\n",
       "<table border=\"1\" class=\"dataframe\">\n",
       "  <thead>\n",
       "    <tr style=\"text-align: right;\">\n",
       "      <th></th>\n",
       "      <th>school</th>\n",
       "      <th>sex</th>\n",
       "      <th>age</th>\n",
       "      <th>address</th>\n",
       "      <th>famsize</th>\n",
       "      <th>Pstatus</th>\n",
       "      <th>Medu</th>\n",
       "      <th>Fedu</th>\n",
       "      <th>Mjob</th>\n",
       "      <th>Fjob</th>\n",
       "      <th>...</th>\n",
       "      <th>famrel</th>\n",
       "      <th>freetime</th>\n",
       "      <th>goout</th>\n",
       "      <th>Dalc</th>\n",
       "      <th>Walc</th>\n",
       "      <th>health</th>\n",
       "      <th>absences</th>\n",
       "      <th>G1</th>\n",
       "      <th>G2</th>\n",
       "      <th>G3</th>\n",
       "    </tr>\n",
       "  </thead>\n",
       "  <tbody>\n",
       "    <tr>\n",
       "      <th>182</th>\n",
       "      <td>False</td>\n",
       "      <td>False</td>\n",
       "      <td>False</td>\n",
       "      <td>False</td>\n",
       "      <td>False</td>\n",
       "      <td>False</td>\n",
       "      <td>False</td>\n",
       "      <td>False</td>\n",
       "      <td>False</td>\n",
       "      <td>False</td>\n",
       "      <td>...</td>\n",
       "      <td>False</td>\n",
       "      <td>False</td>\n",
       "      <td>False</td>\n",
       "      <td>False</td>\n",
       "      <td>False</td>\n",
       "      <td>False</td>\n",
       "      <td>False</td>\n",
       "      <td>False</td>\n",
       "      <td>False</td>\n",
       "      <td>False</td>\n",
       "    </tr>\n",
       "    <tr>\n",
       "      <th>364</th>\n",
       "      <td>False</td>\n",
       "      <td>False</td>\n",
       "      <td>False</td>\n",
       "      <td>False</td>\n",
       "      <td>False</td>\n",
       "      <td>False</td>\n",
       "      <td>False</td>\n",
       "      <td>False</td>\n",
       "      <td>False</td>\n",
       "      <td>False</td>\n",
       "      <td>...</td>\n",
       "      <td>False</td>\n",
       "      <td>False</td>\n",
       "      <td>False</td>\n",
       "      <td>False</td>\n",
       "      <td>False</td>\n",
       "      <td>False</td>\n",
       "      <td>False</td>\n",
       "      <td>False</td>\n",
       "      <td>False</td>\n",
       "      <td>False</td>\n",
       "    </tr>\n",
       "    <tr>\n",
       "      <th>144</th>\n",
       "      <td>False</td>\n",
       "      <td>False</td>\n",
       "      <td>False</td>\n",
       "      <td>False</td>\n",
       "      <td>False</td>\n",
       "      <td>False</td>\n",
       "      <td>False</td>\n",
       "      <td>False</td>\n",
       "      <td>False</td>\n",
       "      <td>False</td>\n",
       "      <td>...</td>\n",
       "      <td>False</td>\n",
       "      <td>False</td>\n",
       "      <td>False</td>\n",
       "      <td>False</td>\n",
       "      <td>False</td>\n",
       "      <td>False</td>\n",
       "      <td>False</td>\n",
       "      <td>False</td>\n",
       "      <td>False</td>\n",
       "      <td>False</td>\n",
       "    </tr>\n",
       "    <tr>\n",
       "      <th>318</th>\n",
       "      <td>False</td>\n",
       "      <td>False</td>\n",
       "      <td>False</td>\n",
       "      <td>False</td>\n",
       "      <td>False</td>\n",
       "      <td>False</td>\n",
       "      <td>False</td>\n",
       "      <td>False</td>\n",
       "      <td>False</td>\n",
       "      <td>False</td>\n",
       "      <td>...</td>\n",
       "      <td>False</td>\n",
       "      <td>False</td>\n",
       "      <td>False</td>\n",
       "      <td>False</td>\n",
       "      <td>False</td>\n",
       "      <td>False</td>\n",
       "      <td>False</td>\n",
       "      <td>False</td>\n",
       "      <td>False</td>\n",
       "      <td>False</td>\n",
       "    </tr>\n",
       "    <tr>\n",
       "      <th>169</th>\n",
       "      <td>False</td>\n",
       "      <td>False</td>\n",
       "      <td>False</td>\n",
       "      <td>False</td>\n",
       "      <td>False</td>\n",
       "      <td>False</td>\n",
       "      <td>False</td>\n",
       "      <td>False</td>\n",
       "      <td>False</td>\n",
       "      <td>False</td>\n",
       "      <td>...</td>\n",
       "      <td>False</td>\n",
       "      <td>False</td>\n",
       "      <td>False</td>\n",
       "      <td>False</td>\n",
       "      <td>False</td>\n",
       "      <td>False</td>\n",
       "      <td>False</td>\n",
       "      <td>False</td>\n",
       "      <td>False</td>\n",
       "      <td>False</td>\n",
       "    </tr>\n",
       "    <tr>\n",
       "      <th>48</th>\n",
       "      <td>False</td>\n",
       "      <td>False</td>\n",
       "      <td>False</td>\n",
       "      <td>False</td>\n",
       "      <td>False</td>\n",
       "      <td>False</td>\n",
       "      <td>False</td>\n",
       "      <td>False</td>\n",
       "      <td>False</td>\n",
       "      <td>False</td>\n",
       "      <td>...</td>\n",
       "      <td>False</td>\n",
       "      <td>False</td>\n",
       "      <td>False</td>\n",
       "      <td>False</td>\n",
       "      <td>False</td>\n",
       "      <td>False</td>\n",
       "      <td>False</td>\n",
       "      <td>False</td>\n",
       "      <td>False</td>\n",
       "      <td>False</td>\n",
       "    </tr>\n",
       "    <tr>\n",
       "      <th>476</th>\n",
       "      <td>False</td>\n",
       "      <td>False</td>\n",
       "      <td>False</td>\n",
       "      <td>False</td>\n",
       "      <td>False</td>\n",
       "      <td>False</td>\n",
       "      <td>False</td>\n",
       "      <td>False</td>\n",
       "      <td>False</td>\n",
       "      <td>False</td>\n",
       "      <td>...</td>\n",
       "      <td>False</td>\n",
       "      <td>False</td>\n",
       "      <td>False</td>\n",
       "      <td>False</td>\n",
       "      <td>False</td>\n",
       "      <td>False</td>\n",
       "      <td>False</td>\n",
       "      <td>False</td>\n",
       "      <td>False</td>\n",
       "      <td>False</td>\n",
       "    </tr>\n",
       "    <tr>\n",
       "      <th>430</th>\n",
       "      <td>False</td>\n",
       "      <td>False</td>\n",
       "      <td>False</td>\n",
       "      <td>False</td>\n",
       "      <td>False</td>\n",
       "      <td>False</td>\n",
       "      <td>False</td>\n",
       "      <td>False</td>\n",
       "      <td>False</td>\n",
       "      <td>False</td>\n",
       "      <td>...</td>\n",
       "      <td>False</td>\n",
       "      <td>False</td>\n",
       "      <td>False</td>\n",
       "      <td>False</td>\n",
       "      <td>False</td>\n",
       "      <td>False</td>\n",
       "      <td>False</td>\n",
       "      <td>False</td>\n",
       "      <td>False</td>\n",
       "      <td>False</td>\n",
       "    </tr>\n",
       "    <tr>\n",
       "      <th>228</th>\n",
       "      <td>False</td>\n",
       "      <td>False</td>\n",
       "      <td>False</td>\n",
       "      <td>False</td>\n",
       "      <td>False</td>\n",
       "      <td>False</td>\n",
       "      <td>False</td>\n",
       "      <td>False</td>\n",
       "      <td>False</td>\n",
       "      <td>False</td>\n",
       "      <td>...</td>\n",
       "      <td>False</td>\n",
       "      <td>False</td>\n",
       "      <td>False</td>\n",
       "      <td>False</td>\n",
       "      <td>False</td>\n",
       "      <td>False</td>\n",
       "      <td>False</td>\n",
       "      <td>False</td>\n",
       "      <td>False</td>\n",
       "      <td>False</td>\n",
       "    </tr>\n",
       "    <tr>\n",
       "      <th>343</th>\n",
       "      <td>False</td>\n",
       "      <td>False</td>\n",
       "      <td>False</td>\n",
       "      <td>False</td>\n",
       "      <td>False</td>\n",
       "      <td>False</td>\n",
       "      <td>False</td>\n",
       "      <td>False</td>\n",
       "      <td>False</td>\n",
       "      <td>False</td>\n",
       "      <td>...</td>\n",
       "      <td>False</td>\n",
       "      <td>False</td>\n",
       "      <td>False</td>\n",
       "      <td>False</td>\n",
       "      <td>False</td>\n",
       "      <td>False</td>\n",
       "      <td>False</td>\n",
       "      <td>False</td>\n",
       "      <td>False</td>\n",
       "      <td>False</td>\n",
       "    </tr>\n",
       "  </tbody>\n",
       "</table>\n",
       "<p>10 rows × 33 columns</p>\n",
       "</div>"
      ],
      "text/plain": [
       "     school    sex    age  address  famsize  Pstatus   Medu   Fedu   Mjob  \\\n",
       "182   False  False  False    False    False    False  False  False  False   \n",
       "364   False  False  False    False    False    False  False  False  False   \n",
       "144   False  False  False    False    False    False  False  False  False   \n",
       "318   False  False  False    False    False    False  False  False  False   \n",
       "169   False  False  False    False    False    False  False  False  False   \n",
       "48    False  False  False    False    False    False  False  False  False   \n",
       "476   False  False  False    False    False    False  False  False  False   \n",
       "430   False  False  False    False    False    False  False  False  False   \n",
       "228   False  False  False    False    False    False  False  False  False   \n",
       "343   False  False  False    False    False    False  False  False  False   \n",
       "\n",
       "      Fjob  ...  famrel  freetime  goout   Dalc   Walc  health  absences  \\\n",
       "182  False  ...   False     False  False  False  False   False     False   \n",
       "364  False  ...   False     False  False  False  False   False     False   \n",
       "144  False  ...   False     False  False  False  False   False     False   \n",
       "318  False  ...   False     False  False  False  False   False     False   \n",
       "169  False  ...   False     False  False  False  False   False     False   \n",
       "48   False  ...   False     False  False  False  False   False     False   \n",
       "476  False  ...   False     False  False  False  False   False     False   \n",
       "430  False  ...   False     False  False  False  False   False     False   \n",
       "228  False  ...   False     False  False  False  False   False     False   \n",
       "343  False  ...   False     False  False  False  False   False     False   \n",
       "\n",
       "        G1     G2     G3  \n",
       "182  False  False  False  \n",
       "364  False  False  False  \n",
       "144  False  False  False  \n",
       "318  False  False  False  \n",
       "169  False  False  False  \n",
       "48   False  False  False  \n",
       "476  False  False  False  \n",
       "430  False  False  False  \n",
       "228  False  False  False  \n",
       "343  False  False  False  \n",
       "\n",
       "[10 rows x 33 columns]"
      ]
     },
     "execution_count": 11,
     "metadata": {},
     "output_type": "execute_result"
    }
   ],
   "source": [
    "#identify missing values\n",
    "#missing values will appear as \"True\"\n",
    "df_merged.isnull().sample(10)"
   ]
  },
  {
   "cell_type": "code",
   "execution_count": 12,
   "metadata": {
    "collapsed": true
   },
   "outputs": [
    {
     "data": {
      "text/plain": [
       "school        0\n",
       "sex           0\n",
       "age           0\n",
       "address       0\n",
       "famsize       0\n",
       "Pstatus       0\n",
       "Medu          0\n",
       "Fedu          0\n",
       "Mjob          0\n",
       "Fjob          0\n",
       "reason        0\n",
       "guardian      0\n",
       "traveltime    0\n",
       "studytime     0\n",
       "failures      0\n",
       "schoolsup     0\n",
       "famsup        0\n",
       "paid          0\n",
       "activities    0\n",
       "nursery       0\n",
       "higher        0\n",
       "internet      0\n",
       "romantic      0\n",
       "famrel        0\n",
       "freetime      0\n",
       "goout         0\n",
       "Dalc          0\n",
       "Walc          0\n",
       "health        0\n",
       "absences      0\n",
       "G1            0\n",
       "G2            0\n",
       "G3            0\n",
       "dtype: int64"
      ]
     },
     "execution_count": 12,
     "metadata": {},
     "output_type": "execute_result"
    }
   ],
   "source": [
    "df_merged.isnull().sum()\n",
    "#we see that there is 0 missing values in this dataset. This is also explicitly stated on the website the data was derived from"
   ]
  },
  {
   "cell_type": "code",
   "execution_count": 13,
   "metadata": {
    "collapsed": true
   },
   "outputs": [
    {
     "name": "stdout",
     "output_type": "stream",
     "text": [
      "<class 'pandas.core.frame.DataFrame'>\n",
      "Int64Index: 1044 entries, 0 to 648\n",
      "Data columns (total 33 columns):\n",
      " #   Column      Non-Null Count  Dtype \n",
      "---  ------      --------------  ----- \n",
      " 0   school      1044 non-null   object\n",
      " 1   sex         1044 non-null   object\n",
      " 2   age         1044 non-null   int64 \n",
      " 3   address     1044 non-null   object\n",
      " 4   famsize     1044 non-null   object\n",
      " 5   Pstatus     1044 non-null   object\n",
      " 6   Medu        1044 non-null   int64 \n",
      " 7   Fedu        1044 non-null   int64 \n",
      " 8   Mjob        1044 non-null   object\n",
      " 9   Fjob        1044 non-null   object\n",
      " 10  reason      1044 non-null   object\n",
      " 11  guardian    1044 non-null   object\n",
      " 12  traveltime  1044 non-null   int64 \n",
      " 13  studytime   1044 non-null   int64 \n",
      " 14  failures    1044 non-null   int64 \n",
      " 15  schoolsup   1044 non-null   object\n",
      " 16  famsup      1044 non-null   object\n",
      " 17  paid        1044 non-null   object\n",
      " 18  activities  1044 non-null   object\n",
      " 19  nursery     1044 non-null   object\n",
      " 20  higher      1044 non-null   object\n",
      " 21  internet    1044 non-null   object\n",
      " 22  romantic    1044 non-null   object\n",
      " 23  famrel      1044 non-null   int64 \n",
      " 24  freetime    1044 non-null   int64 \n",
      " 25  goout       1044 non-null   int64 \n",
      " 26  Dalc        1044 non-null   int64 \n",
      " 27  Walc        1044 non-null   int64 \n",
      " 28  health      1044 non-null   int64 \n",
      " 29  absences    1044 non-null   int64 \n",
      " 30  G1          1044 non-null   int64 \n",
      " 31  G2          1044 non-null   int64 \n",
      " 32  G3          1044 non-null   int64 \n",
      "dtypes: int64(16), object(17)\n",
      "memory usage: 277.3+ KB\n"
     ]
    }
   ],
   "source": [
    "df_merged.info()"
   ]
  },
  {
   "cell_type": "code",
   "execution_count": 14,
   "metadata": {
    "collapsed": true
   },
   "outputs": [
    {
     "data": {
      "text/plain": [
       "<AxesSubplot:>"
      ]
     },
     "execution_count": 14,
     "metadata": {},
     "output_type": "execute_result"
    },
    {
     "data": {
      "image/png": "[encoded data removed]",
      "text/plain": [
       "<Figure size 432x288 with 1 Axes>"
      ]
     },
     "metadata": {
      "needs_background": "light"
     },
     "output_type": "display_data"
    }
   ],
   "source": [
    "#check for outliers by visualizing the dataset with box plots for continous numerical data\n",
    "#continous variables = age, absences, G1, G2, G3\n",
    "df_merged[\"age\"].plot.box()"
   ]
  },
  {
   "cell_type": "code",
   "execution_count": 15,
   "metadata": {
    "collapsed": true
   },
   "outputs": [
    {
     "data": {
      "text/plain": [
       "<AxesSubplot:>"
      ]
     },
     "execution_count": 15,
     "metadata": {},
     "output_type": "execute_result"
    },
    {
     "data": {
      "image/png": "[encoded data removed]",
      "text/plain": [
       "<Figure size 432x288 with 1 Axes>"
      ]
     },
     "metadata": {
      "needs_background": "light"
     },
     "output_type": "display_data"
    }
   ],
   "source": [
    "df_merged[\"absences\"].plot.box()"
   ]
  },
  {
   "cell_type": "code",
   "execution_count": 16,
   "metadata": {
    "collapsed": true
   },
   "outputs": [
    {
     "data": {
      "text/plain": [
       "<AxesSubplot:>"
      ]
     },
     "execution_count": 16,
     "metadata": {},
     "output_type": "execute_result"
    },
    {
     "data": {
      "image/png": "[encoded data removed]",
      "text/plain": [
       "<Figure size 432x288 with 1 Axes>"
      ]
     },
     "metadata": {
      "needs_background": "light"
     },
     "output_type": "display_data"
    }
   ],
   "source": [
    "df_merged[\"G1\"].plot.box()"
   ]
  },
  {
   "cell_type": "code",
   "execution_count": 17,
   "metadata": {
    "collapsed": true
   },
   "outputs": [
    {
     "data": {
      "text/plain": [
       "<AxesSubplot:>"
      ]
     },
     "execution_count": 17,
     "metadata": {},
     "output_type": "execute_result"
    },
    {
     "data": {
      "image/png": "[encoded data removed]",
      "text/plain": [
       "<Figure size 432x288 with 1 Axes>"
      ]
     },
     "metadata": {
      "needs_background": "light"
     },
     "output_type": "display_data"
    }
   ],
   "source": [
    "df_merged[\"G2\"].plot.box()"
   ]
  },
  {
   "cell_type": "code",
   "execution_count": 18,
   "metadata": {
    "collapsed": true
   },
   "outputs": [
    {
     "data": {
      "text/plain": [
       "<AxesSubplot:>"
      ]
     },
     "execution_count": 18,
     "metadata": {},
     "output_type": "execute_result"
    },
    {
     "data": {
      "image/png": "[encoded data removed]",
      "text/plain": [
       "<Figure size 432x288 with 1 Axes>"
      ]
     },
     "metadata": {
      "needs_background": "light"
     },
     "output_type": "display_data"
    }
   ],
   "source": [
    "df_merged[\"G3\"].plot.box()"
   ]
  },
  {
   "cell_type": "markdown",
   "metadata": {},
   "source": [
    "We see from the above box plots that each continous variable visually has \"outliers\", which are the dots not included in the box and whiskers\n",
    "\n",
    "Outliers should only be dropped if there's good reason to. You can drop outliers if you know the data was entered incorrectly (We don't know that for this set), if dropping doesn't change the results, or if it creates significant association\n",
    "\n",
    "To see if these are truly outliers, we need to transform and preprocess the data by centering and scaling the data. We can do this by using histograms."
   ]
  },
  {
   "cell_type": "code",
   "execution_count": 19,
   "metadata": {
    "collapsed": true
   },
   "outputs": [
    {
     "data": {
      "text/plain": [
       "<AxesSubplot:>"
      ]
     },
     "execution_count": 19,
     "metadata": {},
     "output_type": "execute_result"
    },
    {
     "data": {
      "image/png": "[encoded data removed]",
      "text/plain": [
       "<Figure size 432x288 with 1 Axes>"
      ]
     },
     "metadata": {
      "needs_background": "light"
     },
     "output_type": "display_data"
    }
   ],
   "source": [
    "#center and scale the data as needed: start with making histograms for the continous variables\n",
    "df_merged[\"age\"].hist()\n",
    "#skewed right"
   ]
  },
  {
   "cell_type": "code",
   "execution_count": 20,
   "metadata": {
    "collapsed": true
   },
   "outputs": [
    {
     "data": {
      "text/plain": [
       "<AxesSubplot:>"
      ]
     },
     "execution_count": 20,
     "metadata": {},
     "output_type": "execute_result"
    },
    {
     "data": {
      "image/png": "[encoded data removed]",
      "text/plain": [
       "<Figure size 432x288 with 1 Axes>"
      ]
     },
     "metadata": {
      "needs_background": "light"
     },
     "output_type": "display_data"
    }
   ],
   "source": [
    "df_merged[\"absences\"].hist()\n",
    "#skewed right"
   ]
  },
  {
   "cell_type": "code",
   "execution_count": 21,
   "metadata": {
    "collapsed": true
   },
   "outputs": [
    {
     "data": {
      "text/plain": [
       "<AxesSubplot:>"
      ]
     },
     "execution_count": 21,
     "metadata": {},
     "output_type": "execute_result"
    },
    {
     "data": {
      "image/png": "[encoded data removed]",
      "text/plain": [
       "<Figure size 432x288 with 1 Axes>"
      ]
     },
     "metadata": {
      "needs_background": "light"
     },
     "output_type": "display_data"
    }
   ],
   "source": [
    "df_merged[\"G1\"].hist()\n",
    "#normal"
   ]
  },
  {
   "cell_type": "code",
   "execution_count": 22,
   "metadata": {
    "collapsed": true
   },
   "outputs": [
    {
     "data": {
      "text/plain": [
       "<AxesSubplot:>"
      ]
     },
     "execution_count": 22,
     "metadata": {},
     "output_type": "execute_result"
    },
    {
     "data": {
      "image/png": "[encoded data removed]",
      "text/plain": [
       "<Figure size 432x288 with 1 Axes>"
      ]
     },
     "metadata": {
      "needs_background": "light"
     },
     "output_type": "display_data"
    }
   ],
   "source": [
    "df_merged[\"G2\"].hist()\n",
    "#normal"
   ]
  },
  {
   "cell_type": "code",
   "execution_count": 23,
   "metadata": {},
   "outputs": [
    {
     "data": {
      "text/plain": [
       "<AxesSubplot:>"
      ]
     },
     "execution_count": 23,
     "metadata": {},
     "output_type": "execute_result"
    },
    {
     "data": {
      "image/png": "[encoded data removed]",
      "text/plain": [
       "<Figure size 432x288 with 1 Axes>"
      ]
     },
     "metadata": {
      "needs_background": "light"
     },
     "output_type": "display_data"
    }
   ],
   "source": [
    "df_merged[\"G3\"].hist()\n",
    "#normal"
   ]
  },
  {
   "cell_type": "code",
   "execution_count": 24,
   "metadata": {},
   "outputs": [],
   "source": [
    "#import sklearn to be able to center and scale fast\n",
    "import sklearn\n",
    "from sklearn import preprocessing as prep"
   ]
  },
  {
   "cell_type": "code",
   "execution_count": 25,
   "metadata": {},
   "outputs": [],
   "source": [
    "#make new df that is just the continous data\n",
    "df_num = df_merged[[\"age\",\"absences\",\"G1\",\"G2\",\"G3\"]]\n"
   ]
  },
  {
   "cell_type": "code",
   "execution_count": 26,
   "metadata": {},
   "outputs": [],
   "source": [
    "#scale the data\n",
    "scaled = prep.scale(df_num)"
   ]
  },
  {
   "cell_type": "code",
   "execution_count": 27,
   "metadata": {},
   "outputs": [],
   "source": [
    "#convert back to a data frame\n",
    "df_scaled = pd.DataFrame(scaled,index=df_num.index, columns=df_num.columns)"
   ]
  },
  {
   "cell_type": "code",
   "execution_count": 28,
   "metadata": {
    "collapsed": true
   },
   "outputs": [
    {
     "data": {
      "text/html": [
       "<div>\n",
       "<style scoped>\n",
       "    .dataframe tbody tr th:only-of-type {\n",
       "        vertical-align: middle;\n",
       "    }\n",
       "\n",
       "    .dataframe tbody tr th {\n",
       "        vertical-align: top;\n",
       "    }\n",
       "\n",
       "    .dataframe thead th {\n",
       "        text-align: right;\n",
       "    }\n",
       "</style>\n",
       "<table border=\"1\" class=\"dataframe\">\n",
       "  <thead>\n",
       "    <tr style=\"text-align: right;\">\n",
       "      <th></th>\n",
       "      <th>age</th>\n",
       "      <th>absences</th>\n",
       "      <th>G1</th>\n",
       "      <th>G2</th>\n",
       "      <th>G3</th>\n",
       "    </tr>\n",
       "  </thead>\n",
       "  <tbody>\n",
       "    <tr>\n",
       "      <th>count</th>\n",
       "      <td>1.044000e+03</td>\n",
       "      <td>1.044000e+03</td>\n",
       "      <td>1.044000e+03</td>\n",
       "      <td>1.044000e+03</td>\n",
       "      <td>1.044000e+03</td>\n",
       "    </tr>\n",
       "    <tr>\n",
       "      <th>mean</th>\n",
       "      <td>-2.241289e-15</td>\n",
       "      <td>-2.687160e-16</td>\n",
       "      <td>3.732646e-17</td>\n",
       "      <td>5.371661e-17</td>\n",
       "      <td>-2.225896e-16</td>\n",
       "    </tr>\n",
       "    <tr>\n",
       "      <th>std</th>\n",
       "      <td>1.000479e+00</td>\n",
       "      <td>1.000479e+00</td>\n",
       "      <td>1.000479e+00</td>\n",
       "      <td>1.000479e+00</td>\n",
       "      <td>1.000479e+00</td>\n",
       "    </tr>\n",
       "    <tr>\n",
       "      <th>min</th>\n",
       "      <td>-1.392674e+00</td>\n",
       "      <td>-7.144895e-01</td>\n",
       "      <td>-3.760474e+00</td>\n",
       "      <td>-3.425058e+00</td>\n",
       "      <td>-2.936090e+00</td>\n",
       "    </tr>\n",
       "    <tr>\n",
       "      <th>25%</th>\n",
       "      <td>-5.858197e-01</td>\n",
       "      <td>-7.144895e-01</td>\n",
       "      <td>-7.423299e-01</td>\n",
       "      <td>-6.840781e-01</td>\n",
       "      <td>-3.473915e-01</td>\n",
       "    </tr>\n",
       "    <tr>\n",
       "      <th>50%</th>\n",
       "      <td>2.210349e-01</td>\n",
       "      <td>-3.922748e-01</td>\n",
       "      <td>-7.163114e-02</td>\n",
       "      <td>-7.497146e-02</td>\n",
       "      <td>-8.852160e-02</td>\n",
       "    </tr>\n",
       "    <tr>\n",
       "      <th>75%</th>\n",
       "      <td>1.027889e+00</td>\n",
       "      <td>2.521546e-01</td>\n",
       "      <td>5.990676e-01</td>\n",
       "      <td>5.341352e-01</td>\n",
       "      <td>6.880881e-01</td>\n",
       "    </tr>\n",
       "    <tr>\n",
       "      <th>max</th>\n",
       "      <td>4.255308e+00</td>\n",
       "      <td>1.136856e+01</td>\n",
       "      <td>2.611164e+00</td>\n",
       "      <td>2.361455e+00</td>\n",
       "      <td>2.241307e+00</td>\n",
       "    </tr>\n",
       "  </tbody>\n",
       "</table>\n",
       "</div>"
      ],
      "text/plain": [
       "                age      absences            G1            G2            G3\n",
       "count  1.044000e+03  1.044000e+03  1.044000e+03  1.044000e+03  1.044000e+03\n",
       "mean  -2.241289e-15 -2.687160e-16  3.732646e-17  5.371661e-17 -2.225896e-16\n",
       "std    1.000479e+00  1.000479e+00  1.000479e+00  1.000479e+00  1.000479e+00\n",
       "min   -1.392674e+00 -7.144895e-01 -3.760474e+00 -3.425058e+00 -2.936090e+00\n",
       "25%   -5.858197e-01 -7.144895e-01 -7.423299e-01 -6.840781e-01 -3.473915e-01\n",
       "50%    2.210349e-01 -3.922748e-01 -7.163114e-02 -7.497146e-02 -8.852160e-02\n",
       "75%    1.027889e+00  2.521546e-01  5.990676e-01  5.341352e-01  6.880881e-01\n",
       "max    4.255308e+00  1.136856e+01  2.611164e+00  2.361455e+00  2.241307e+00"
      ]
     },
     "execution_count": 28,
     "metadata": {},
     "output_type": "execute_result"
    }
   ],
   "source": [
    "#look at the new dataframe that is scaled and centered at 0\n",
    "df_scaled.describe()"
   ]
  },
  {
   "cell_type": "code",
   "execution_count": 29,
   "metadata": {
    "collapsed": true
   },
   "outputs": [
    {
     "data": {
      "text/plain": [
       "<AxesSubplot:>"
      ]
     },
     "execution_count": 29,
     "metadata": {},
     "output_type": "execute_result"
    },
    {
     "data": {
      "image/png": "[encoded data removed]",
      "text/plain": [
       "<Figure size 432x288 with 1 Axes>"
      ]
     },
     "metadata": {
      "needs_background": "light"
     },
     "output_type": "display_data"
    }
   ],
   "source": [
    "#now look at the new histograms\n",
    "df_scaled[\"age\"].hist()"
   ]
  },
  {
   "cell_type": "code",
   "execution_count": 30,
   "metadata": {
    "collapsed": true
   },
   "outputs": [
    {
     "data": {
      "text/plain": [
       "<AxesSubplot:>"
      ]
     },
     "execution_count": 30,
     "metadata": {},
     "output_type": "execute_result"
    },
    {
     "data": {
      "image/png": "[encoded data removed]",
      "text/plain": [
       "<Figure size 432x288 with 1 Axes>"
      ]
     },
     "metadata": {
      "needs_background": "light"
     },
     "output_type": "display_data"
    }
   ],
   "source": [
    "df_scaled[\"absences\"].hist()"
   ]
  },
  {
   "cell_type": "code",
   "execution_count": 31,
   "metadata": {
    "collapsed": true
   },
   "outputs": [
    {
     "data": {
      "text/plain": [
       "<AxesSubplot:>"
      ]
     },
     "execution_count": 31,
     "metadata": {},
     "output_type": "execute_result"
    },
    {
     "data": {
      "image/png": "[encoded data removed]",
      "text/plain": [
       "<Figure size 432x288 with 1 Axes>"
      ]
     },
     "metadata": {
      "needs_background": "light"
     },
     "output_type": "display_data"
    }
   ],
   "source": [
    "df_scaled[\"G1\"].hist()"
   ]
  },
  {
   "cell_type": "code",
   "execution_count": 32,
   "metadata": {
    "collapsed": true
   },
   "outputs": [
    {
     "data": {
      "text/plain": [
       "<AxesSubplot:>"
      ]
     },
     "execution_count": 32,
     "metadata": {},
     "output_type": "execute_result"
    },
    {
     "data": {
      "image/png": "[encoded data removed]",
      "text/plain": [
       "<Figure size 432x288 with 1 Axes>"
      ]
     },
     "metadata": {
      "needs_background": "light"
     },
     "output_type": "display_data"
    }
   ],
   "source": [
    "df_scaled[\"G2\"].hist()"
   ]
  },
  {
   "cell_type": "code",
   "execution_count": 33,
   "metadata": {
    "collapsed": true
   },
   "outputs": [
    {
     "data": {
      "text/plain": [
       "<AxesSubplot:>"
      ]
     },
     "execution_count": 33,
     "metadata": {},
     "output_type": "execute_result"
    },
    {
     "data": {
      "image/png": "[encoded data removed]",
      "text/plain": [
       "<Figure size 432x288 with 1 Axes>"
      ]
     },
     "metadata": {
      "needs_background": "light"
     },
     "output_type": "display_data"
    }
   ],
   "source": [
    "df_scaled[\"G3\"].hist()"
   ]
  },
  {
   "cell_type": "markdown",
   "metadata": {},
   "source": [
    "We may want to remove the outliers seen in age, absences, G2, and G3 because even after scaling and centering the data, they are still present as outliers. "
   ]
  },
  {
   "cell_type": "code",
   "execution_count": 34,
   "metadata": {},
   "outputs": [],
   "source": [
    "#Create dummy variables for the discrete data/categorical data\n",
    "#first we need to import necessary tools\n",
    "%matplotlib inline\n",
    "import matplotlib.pyplot as plt\n"
   ]
  },
  {
   "cell_type": "code",
   "execution_count": 35,
   "metadata": {
    "collapsed": true
   },
   "outputs": [
    {
     "data": {
      "text/html": [
       "<div>\n",
       "<style scoped>\n",
       "    .dataframe tbody tr th:only-of-type {\n",
       "        vertical-align: middle;\n",
       "    }\n",
       "\n",
       "    .dataframe tbody tr th {\n",
       "        vertical-align: top;\n",
       "    }\n",
       "\n",
       "    .dataframe thead th {\n",
       "        text-align: right;\n",
       "    }\n",
       "</style>\n",
       "<table border=\"1\" class=\"dataframe\">\n",
       "  <thead>\n",
       "    <tr style=\"text-align: right;\">\n",
       "      <th></th>\n",
       "      <th>age</th>\n",
       "      <th>Medu</th>\n",
       "      <th>Fedu</th>\n",
       "      <th>traveltime</th>\n",
       "      <th>studytime</th>\n",
       "      <th>failures</th>\n",
       "      <th>famrel</th>\n",
       "      <th>freetime</th>\n",
       "      <th>goout</th>\n",
       "      <th>Dalc</th>\n",
       "      <th>Walc</th>\n",
       "      <th>health</th>\n",
       "      <th>absences</th>\n",
       "      <th>G1</th>\n",
       "      <th>G2</th>\n",
       "      <th>G3</th>\n",
       "    </tr>\n",
       "  </thead>\n",
       "  <tbody>\n",
       "    <tr>\n",
       "      <th>age</th>\n",
       "      <td>1.000000</td>\n",
       "      <td>-0.130196</td>\n",
       "      <td>-0.138521</td>\n",
       "      <td>0.049216</td>\n",
       "      <td>-0.007870</td>\n",
       "      <td>0.282364</td>\n",
       "      <td>0.007162</td>\n",
       "      <td>0.002645</td>\n",
       "      <td>0.118510</td>\n",
       "      <td>0.133453</td>\n",
       "      <td>0.098291</td>\n",
       "      <td>-0.029129</td>\n",
       "      <td>0.153196</td>\n",
       "      <td>-0.124121</td>\n",
       "      <td>-0.119475</td>\n",
       "      <td>-0.125282</td>\n",
       "    </tr>\n",
       "    <tr>\n",
       "      <th>Medu</th>\n",
       "      <td>-0.130196</td>\n",
       "      <td>1.000000</td>\n",
       "      <td>0.642063</td>\n",
       "      <td>-0.238181</td>\n",
       "      <td>0.090616</td>\n",
       "      <td>-0.187769</td>\n",
       "      <td>0.015004</td>\n",
       "      <td>0.001054</td>\n",
       "      <td>0.025614</td>\n",
       "      <td>0.001515</td>\n",
       "      <td>-0.029331</td>\n",
       "      <td>-0.013254</td>\n",
       "      <td>0.059708</td>\n",
       "      <td>0.226101</td>\n",
       "      <td>0.224662</td>\n",
       "      <td>0.201472</td>\n",
       "    </tr>\n",
       "    <tr>\n",
       "      <th>Fedu</th>\n",
       "      <td>-0.138521</td>\n",
       "      <td>0.642063</td>\n",
       "      <td>1.000000</td>\n",
       "      <td>-0.196328</td>\n",
       "      <td>0.033458</td>\n",
       "      <td>-0.191390</td>\n",
       "      <td>0.013066</td>\n",
       "      <td>0.002142</td>\n",
       "      <td>0.030075</td>\n",
       "      <td>-0.000165</td>\n",
       "      <td>0.019524</td>\n",
       "      <td>0.034288</td>\n",
       "      <td>0.040829</td>\n",
       "      <td>0.195898</td>\n",
       "      <td>0.182634</td>\n",
       "      <td>0.159796</td>\n",
       "    </tr>\n",
       "    <tr>\n",
       "      <th>traveltime</th>\n",
       "      <td>0.049216</td>\n",
       "      <td>-0.238181</td>\n",
       "      <td>-0.196328</td>\n",
       "      <td>1.000000</td>\n",
       "      <td>-0.081328</td>\n",
       "      <td>0.087177</td>\n",
       "      <td>-0.012578</td>\n",
       "      <td>-0.007403</td>\n",
       "      <td>0.049740</td>\n",
       "      <td>0.109423</td>\n",
       "      <td>0.084292</td>\n",
       "      <td>-0.029002</td>\n",
       "      <td>-0.022669</td>\n",
       "      <td>-0.121053</td>\n",
       "      <td>-0.140163</td>\n",
       "      <td>-0.102627</td>\n",
       "    </tr>\n",
       "    <tr>\n",
       "      <th>studytime</th>\n",
       "      <td>-0.007870</td>\n",
       "      <td>0.090616</td>\n",
       "      <td>0.033458</td>\n",
       "      <td>-0.081328</td>\n",
       "      <td>1.000000</td>\n",
       "      <td>-0.152024</td>\n",
       "      <td>0.012324</td>\n",
       "      <td>-0.094429</td>\n",
       "      <td>-0.072941</td>\n",
       "      <td>-0.159665</td>\n",
       "      <td>-0.229073</td>\n",
       "      <td>-0.063044</td>\n",
       "      <td>-0.075594</td>\n",
       "      <td>0.211314</td>\n",
       "      <td>0.183167</td>\n",
       "      <td>0.161629</td>\n",
       "    </tr>\n",
       "    <tr>\n",
       "      <th>failures</th>\n",
       "      <td>0.282364</td>\n",
       "      <td>-0.187769</td>\n",
       "      <td>-0.191390</td>\n",
       "      <td>0.087177</td>\n",
       "      <td>-0.152024</td>\n",
       "      <td>1.000000</td>\n",
       "      <td>-0.053676</td>\n",
       "      <td>0.102679</td>\n",
       "      <td>0.074683</td>\n",
       "      <td>0.116336</td>\n",
       "      <td>0.107432</td>\n",
       "      <td>0.048311</td>\n",
       "      <td>0.099998</td>\n",
       "      <td>-0.374175</td>\n",
       "      <td>-0.377172</td>\n",
       "      <td>-0.383145</td>\n",
       "    </tr>\n",
       "    <tr>\n",
       "      <th>famrel</th>\n",
       "      <td>0.007162</td>\n",
       "      <td>0.015004</td>\n",
       "      <td>0.013066</td>\n",
       "      <td>-0.012578</td>\n",
       "      <td>0.012324</td>\n",
       "      <td>-0.053676</td>\n",
       "      <td>1.000000</td>\n",
       "      <td>0.136901</td>\n",
       "      <td>0.080619</td>\n",
       "      <td>-0.076483</td>\n",
       "      <td>-0.100663</td>\n",
       "      <td>0.104101</td>\n",
       "      <td>-0.062171</td>\n",
       "      <td>0.036947</td>\n",
       "      <td>0.042054</td>\n",
       "      <td>0.054461</td>\n",
       "    </tr>\n",
       "    <tr>\n",
       "      <th>freetime</th>\n",
       "      <td>0.002645</td>\n",
       "      <td>0.001054</td>\n",
       "      <td>0.002142</td>\n",
       "      <td>-0.007403</td>\n",
       "      <td>-0.094429</td>\n",
       "      <td>0.102679</td>\n",
       "      <td>0.136901</td>\n",
       "      <td>1.000000</td>\n",
       "      <td>0.323556</td>\n",
       "      <td>0.144979</td>\n",
       "      <td>0.130377</td>\n",
       "      <td>0.081517</td>\n",
       "      <td>-0.032079</td>\n",
       "      <td>-0.051985</td>\n",
       "      <td>-0.068952</td>\n",
       "      <td>-0.064890</td>\n",
       "    </tr>\n",
       "    <tr>\n",
       "      <th>goout</th>\n",
       "      <td>0.118510</td>\n",
       "      <td>0.025614</td>\n",
       "      <td>0.030075</td>\n",
       "      <td>0.049740</td>\n",
       "      <td>-0.072941</td>\n",
       "      <td>0.074683</td>\n",
       "      <td>0.080619</td>\n",
       "      <td>0.323556</td>\n",
       "      <td>1.000000</td>\n",
       "      <td>0.253135</td>\n",
       "      <td>0.399794</td>\n",
       "      <td>-0.013736</td>\n",
       "      <td>0.056142</td>\n",
       "      <td>-0.101163</td>\n",
       "      <td>-0.108411</td>\n",
       "      <td>-0.097877</td>\n",
       "    </tr>\n",
       "    <tr>\n",
       "      <th>Dalc</th>\n",
       "      <td>0.133453</td>\n",
       "      <td>0.001515</td>\n",
       "      <td>-0.000165</td>\n",
       "      <td>0.109423</td>\n",
       "      <td>-0.159665</td>\n",
       "      <td>0.116336</td>\n",
       "      <td>-0.076483</td>\n",
       "      <td>0.144979</td>\n",
       "      <td>0.253135</td>\n",
       "      <td>1.000000</td>\n",
       "      <td>0.627814</td>\n",
       "      <td>0.065515</td>\n",
       "      <td>0.132867</td>\n",
       "      <td>-0.150943</td>\n",
       "      <td>-0.131576</td>\n",
       "      <td>-0.129642</td>\n",
       "    </tr>\n",
       "    <tr>\n",
       "      <th>Walc</th>\n",
       "      <td>0.098291</td>\n",
       "      <td>-0.029331</td>\n",
       "      <td>0.019524</td>\n",
       "      <td>0.084292</td>\n",
       "      <td>-0.229073</td>\n",
       "      <td>0.107432</td>\n",
       "      <td>-0.100663</td>\n",
       "      <td>0.130377</td>\n",
       "      <td>0.399794</td>\n",
       "      <td>0.627814</td>\n",
       "      <td>1.000000</td>\n",
       "      <td>0.106669</td>\n",
       "      <td>0.139703</td>\n",
       "      <td>-0.142401</td>\n",
       "      <td>-0.128114</td>\n",
       "      <td>-0.115740</td>\n",
       "    </tr>\n",
       "    <tr>\n",
       "      <th>health</th>\n",
       "      <td>-0.029129</td>\n",
       "      <td>-0.013254</td>\n",
       "      <td>0.034288</td>\n",
       "      <td>-0.029002</td>\n",
       "      <td>-0.063044</td>\n",
       "      <td>0.048311</td>\n",
       "      <td>0.104101</td>\n",
       "      <td>0.081517</td>\n",
       "      <td>-0.013736</td>\n",
       "      <td>0.065515</td>\n",
       "      <td>0.106669</td>\n",
       "      <td>1.000000</td>\n",
       "      <td>-0.027479</td>\n",
       "      <td>-0.060478</td>\n",
       "      <td>-0.088001</td>\n",
       "      <td>-0.080079</td>\n",
       "    </tr>\n",
       "    <tr>\n",
       "      <th>absences</th>\n",
       "      <td>0.153196</td>\n",
       "      <td>0.059708</td>\n",
       "      <td>0.040829</td>\n",
       "      <td>-0.022669</td>\n",
       "      <td>-0.075594</td>\n",
       "      <td>0.099998</td>\n",
       "      <td>-0.062171</td>\n",
       "      <td>-0.032079</td>\n",
       "      <td>0.056142</td>\n",
       "      <td>0.132867</td>\n",
       "      <td>0.139703</td>\n",
       "      <td>-0.027479</td>\n",
       "      <td>1.000000</td>\n",
       "      <td>-0.092425</td>\n",
       "      <td>-0.089332</td>\n",
       "      <td>-0.045671</td>\n",
       "    </tr>\n",
       "    <tr>\n",
       "      <th>G1</th>\n",
       "      <td>-0.124121</td>\n",
       "      <td>0.226101</td>\n",
       "      <td>0.195898</td>\n",
       "      <td>-0.121053</td>\n",
       "      <td>0.211314</td>\n",
       "      <td>-0.374175</td>\n",
       "      <td>0.036947</td>\n",
       "      <td>-0.051985</td>\n",
       "      <td>-0.101163</td>\n",
       "      <td>-0.150943</td>\n",
       "      <td>-0.142401</td>\n",
       "      <td>-0.060478</td>\n",
       "      <td>-0.092425</td>\n",
       "      <td>1.000000</td>\n",
       "      <td>0.858739</td>\n",
       "      <td>0.809142</td>\n",
       "    </tr>\n",
       "    <tr>\n",
       "      <th>G2</th>\n",
       "      <td>-0.119475</td>\n",
       "      <td>0.224662</td>\n",
       "      <td>0.182634</td>\n",
       "      <td>-0.140163</td>\n",
       "      <td>0.183167</td>\n",
       "      <td>-0.377172</td>\n",
       "      <td>0.042054</td>\n",
       "      <td>-0.068952</td>\n",
       "      <td>-0.108411</td>\n",
       "      <td>-0.131576</td>\n",
       "      <td>-0.128114</td>\n",
       "      <td>-0.088001</td>\n",
       "      <td>-0.089332</td>\n",
       "      <td>0.858739</td>\n",
       "      <td>1.000000</td>\n",
       "      <td>0.910743</td>\n",
       "    </tr>\n",
       "    <tr>\n",
       "      <th>G3</th>\n",
       "      <td>-0.125282</td>\n",
       "      <td>0.201472</td>\n",
       "      <td>0.159796</td>\n",
       "      <td>-0.102627</td>\n",
       "      <td>0.161629</td>\n",
       "      <td>-0.383145</td>\n",
       "      <td>0.054461</td>\n",
       "      <td>-0.064890</td>\n",
       "      <td>-0.097877</td>\n",
       "      <td>-0.129642</td>\n",
       "      <td>-0.115740</td>\n",
       "      <td>-0.080079</td>\n",
       "      <td>-0.045671</td>\n",
       "      <td>0.809142</td>\n",
       "      <td>0.910743</td>\n",
       "      <td>1.000000</td>\n",
       "    </tr>\n",
       "  </tbody>\n",
       "</table>\n",
       "</div>"
      ],
      "text/plain": [
       "                 age      Medu      Fedu  traveltime  studytime  failures  \\\n",
       "age         1.000000 -0.130196 -0.138521    0.049216  -0.007870  0.282364   \n",
       "Medu       -0.130196  1.000000  0.642063   -0.238181   0.090616 -0.187769   \n",
       "Fedu       -0.138521  0.642063  1.000000   -0.196328   0.033458 -0.191390   \n",
       "traveltime  0.049216 -0.238181 -0.196328    1.000000  -0.081328  0.087177   \n",
       "studytime  -0.007870  0.090616  0.033458   -0.081328   1.000000 -0.152024   \n",
       "failures    0.282364 -0.187769 -0.191390    0.087177  -0.152024  1.000000   \n",
       "famrel      0.007162  0.015004  0.013066   -0.012578   0.012324 -0.053676   \n",
       "freetime    0.002645  0.001054  0.002142   -0.007403  -0.094429  0.102679   \n",
       "goout       0.118510  0.025614  0.030075    0.049740  -0.072941  0.074683   \n",
       "Dalc        0.133453  0.001515 -0.000165    0.109423  -0.159665  0.116336   \n",
       "Walc        0.098291 -0.029331  0.019524    0.084292  -0.229073  0.107432   \n",
       "health     -0.029129 -0.013254  0.034288   -0.029002  -0.063044  0.048311   \n",
       "absences    0.153196  0.059708  0.040829   -0.022669  -0.075594  0.099998   \n",
       "G1         -0.124121  0.226101  0.195898   -0.121053   0.211314 -0.374175   \n",
       "G2         -0.119475  0.224662  0.182634   -0.140163   0.183167 -0.377172   \n",
       "G3         -0.125282  0.201472  0.159796   -0.102627   0.161629 -0.383145   \n",
       "\n",
       "              famrel  freetime     goout      Dalc      Walc    health  \\\n",
       "age         0.007162  0.002645  0.118510  0.133453  0.098291 -0.029129   \n",
       "Medu        0.015004  0.001054  0.025614  0.001515 -0.029331 -0.013254   \n",
       "Fedu        0.013066  0.002142  0.030075 -0.000165  0.019524  0.034288   \n",
       "traveltime -0.012578 -0.007403  0.049740  0.109423  0.084292 -0.029002   \n",
       "studytime   0.012324 -0.094429 -0.072941 -0.159665 -0.229073 -0.063044   \n",
       "failures   -0.053676  0.102679  0.074683  0.116336  0.107432  0.048311   \n",
       "famrel      1.000000  0.136901  0.080619 -0.076483 -0.100663  0.104101   \n",
       "freetime    0.136901  1.000000  0.323556  0.144979  0.130377  0.081517   \n",
       "goout       0.080619  0.323556  1.000000  0.253135  0.399794 -0.013736   \n",
       "Dalc       -0.076483  0.144979  0.253135  1.000000  0.627814  0.065515   \n",
       "Walc       -0.100663  0.130377  0.399794  0.627814  1.000000  0.106669   \n",
       "health      0.104101  0.081517 -0.013736  0.065515  0.106669  1.000000   \n",
       "absences   -0.062171 -0.032079  0.056142  0.132867  0.139703 -0.027479   \n",
       "G1          0.036947 -0.051985 -0.101163 -0.150943 -0.142401 -0.060478   \n",
       "G2          0.042054 -0.068952 -0.108411 -0.131576 -0.128114 -0.088001   \n",
       "G3          0.054461 -0.064890 -0.097877 -0.129642 -0.115740 -0.080079   \n",
       "\n",
       "            absences        G1        G2        G3  \n",
       "age         0.153196 -0.124121 -0.119475 -0.125282  \n",
       "Medu        0.059708  0.226101  0.224662  0.201472  \n",
       "Fedu        0.040829  0.195898  0.182634  0.159796  \n",
       "traveltime -0.022669 -0.121053 -0.140163 -0.102627  \n",
       "studytime  -0.075594  0.211314  0.183167  0.161629  \n",
       "failures    0.099998 -0.374175 -0.377172 -0.383145  \n",
       "famrel     -0.062171  0.036947  0.042054  0.054461  \n",
       "freetime   -0.032079 -0.051985 -0.068952 -0.064890  \n",
       "goout       0.056142 -0.101163 -0.108411 -0.097877  \n",
       "Dalc        0.132867 -0.150943 -0.131576 -0.129642  \n",
       "Walc        0.139703 -0.142401 -0.128114 -0.115740  \n",
       "health     -0.027479 -0.060478 -0.088001 -0.080079  \n",
       "absences    1.000000 -0.092425 -0.089332 -0.045671  \n",
       "G1         -0.092425  1.000000  0.858739  0.809142  \n",
       "G2         -0.089332  0.858739  1.000000  0.910743  \n",
       "G3         -0.045671  0.809142  0.910743  1.000000  "
      ]
     },
     "execution_count": 35,
     "metadata": {},
     "output_type": "execute_result"
    }
   ],
   "source": [
    "#next, lets look at correlations to see if we can reduce our variables\n",
    "df_merged.corr()\n",
    "#everything is a necessary column, so we will keep them all"
   ]
  },
  {
   "cell_type": "code",
   "execution_count": 36,
   "metadata": {},
   "outputs": [],
   "source": [
    "#in order to do a linear regression later, we have to make all categorical data numeric\n",
    "#we can do this with dummy variables - start with binary \n",
    "\n",
    "#school: 'GP' = Gabriel Pereira, 'MS' = Mousinho da Silveira --> GP = 0, MS = 1\n",
    "df_merged[\"school_dum\"]=df_merged.school.map({\"GP\": 0, \"MS\":1})\n",
    "\n",
    "#sex: Male = M, Female = F --> Male = 0, Female = 1\n",
    "df_merged[\"sex_dum\"]=df_merged.sex.map({\"M\": 0, \"F\":1})\n",
    "\n",
    "#address:  'U' - urban or 'R' - rural --> U = 0, R = 1\n",
    "df_merged[\"address_dum\"]=df_merged.address.map({\"U\": 0, \"R\":1})\n",
    "\n",
    "#family size: LE3' - less or equal to 3 or 'GT3' - greater than 3 --> LE3 = 0, GT3 = 1\n",
    "df_merged[\"famsize_dum\"]=df_merged.famsize.map({\"LE3\": 0, \"GT3\":1})\n",
    "\n",
    "#parent's cohabitation status 'T' - living together or 'A' - apart --> T = 0, A = 1\n",
    "df_merged[\"Pstatus_dum\"]=df_merged.Pstatus.map({\"T\": 0, \"A\":1})\n",
    "\n",
    "#extra educational support: yes or no --> yes = 0, no = 1\n",
    "df_merged[\"schoolsup_dum\"]=df_merged.schoolsup.map({\"yes\": 0, \"no\":1})\n",
    "\n",
    "#family educational support: yes or no --> yes = 0, no = 1\n",
    "df_merged[\"famsup_dum\"]=df_merged.famsup.map({\"yes\": 0, \"no\":1})\n",
    "\n",
    "#extra paid classes within the course subject (Math or Portuguese):yes or no --> yes = 0, no = 1\n",
    "df_merged[\"paid_dum\"]=df_merged.paid.map({\"yes\": 0, \"no\":1})\n",
    "\n",
    "#extra-curricular activities: yes or no --> yes = 0, no = 1\n",
    "df_merged[\"activities_dum\"]=df_merged.activities.map({\"yes\": 0, \"no\":1})\n",
    "\n",
    "#attended nursery school: yes or no --> yes = 0, no = 1\n",
    "df_merged[\"nursery_dum\"]=df_merged.nursery.map({\"yes\": 0, \"no\":1})\n",
    "\n",
    "#wants to take higher education: yes or no --> yes = 0, no = 1\n",
    "df_merged[\"higher_dum\"]=df_merged.higher.map({\"yes\": 0, \"no\":1})\n",
    "\n",
    "#Internet access at home: yes or no --> yes = 0, no = 1\n",
    "df_merged[\"internet_dum\"]=df_merged.internet.map({\"yes\": 0, \"no\":1})\n",
    "\n",
    "# with a romantic relationship: yes or no --> yes = 0, no = 1\n",
    "df_merged[\"romantic_dum\"]=df_merged.romantic.map({\"yes\": 0, \"no\":1})"
   ]
  },
  {
   "cell_type": "code",
   "execution_count": 37,
   "metadata": {
    "collapsed": true
   },
   "outputs": [
    {
     "data": {
      "text/html": [
       "<div>\n",
       "<style scoped>\n",
       "    .dataframe tbody tr th:only-of-type {\n",
       "        vertical-align: middle;\n",
       "    }\n",
       "\n",
       "    .dataframe tbody tr th {\n",
       "        vertical-align: top;\n",
       "    }\n",
       "\n",
       "    .dataframe thead th {\n",
       "        text-align: right;\n",
       "    }\n",
       "</style>\n",
       "<table border=\"1\" class=\"dataframe\">\n",
       "  <thead>\n",
       "    <tr style=\"text-align: right;\">\n",
       "      <th></th>\n",
       "      <th>guardian_father</th>\n",
       "      <th>guardian_mother</th>\n",
       "      <th>guardian_other</th>\n",
       "    </tr>\n",
       "  </thead>\n",
       "  <tbody>\n",
       "    <tr>\n",
       "      <th>0</th>\n",
       "      <td>0</td>\n",
       "      <td>1</td>\n",
       "      <td>0</td>\n",
       "    </tr>\n",
       "    <tr>\n",
       "      <th>1</th>\n",
       "      <td>1</td>\n",
       "      <td>0</td>\n",
       "      <td>0</td>\n",
       "    </tr>\n",
       "    <tr>\n",
       "      <th>2</th>\n",
       "      <td>0</td>\n",
       "      <td>1</td>\n",
       "      <td>0</td>\n",
       "    </tr>\n",
       "    <tr>\n",
       "      <th>3</th>\n",
       "      <td>0</td>\n",
       "      <td>1</td>\n",
       "      <td>0</td>\n",
       "    </tr>\n",
       "    <tr>\n",
       "      <th>4</th>\n",
       "      <td>1</td>\n",
       "      <td>0</td>\n",
       "      <td>0</td>\n",
       "    </tr>\n",
       "  </tbody>\n",
       "</table>\n",
       "</div>"
      ],
      "text/plain": [
       "   guardian_father  guardian_mother  guardian_other\n",
       "0                0                1               0\n",
       "1                1                0               0\n",
       "2                0                1               0\n",
       "3                0                1               0\n",
       "4                1                0               0"
      ]
     },
     "execution_count": 37,
     "metadata": {},
     "output_type": "execute_result"
    }
   ],
   "source": [
    "#now move onto nominal data\n",
    "#we need to make a new dummy variables for unordered categories\n",
    "\n",
    "#mother's job: 'teacher' = , 'health','services', 'at_home' or 'other'\n",
    "Mjob_dum = pd.get_dummies(df_merged[\"Mjob\"], prefix=\"Mjob\")\n",
    "Mjob_dum.head()\n",
    "\n",
    "#father's job 'teacher', 'health', 'services', 'at_home' or 'other'\n",
    "Fjob_dum = pd.get_dummies(df_merged[\"Fjob\"], prefix=\"Fjob\")\n",
    "Fjob_dum.head()\n",
    "\n",
    "#reason to choose this school: 'home', 'reputation', 'course', 'other'\n",
    "reason_dum = pd.get_dummies(df_merged[\"reason\"], prefix=\"reason\")\n",
    "reason_dum.head()\n",
    "\n",
    "#student's guardian:'mother', 'father' or 'other'\n",
    "guardian_dum = pd.get_dummies(df_merged[\"guardian\"], prefix=\"guardian\")\n",
    "guardian_dum.head()"
   ]
  },
  {
   "cell_type": "code",
   "execution_count": 38,
   "metadata": {},
   "outputs": [
    {
     "data": {
      "text/html": [
       "<div>\n",
       "<style scoped>\n",
       "    .dataframe tbody tr th:only-of-type {\n",
       "        vertical-align: middle;\n",
       "    }\n",
       "\n",
       "    .dataframe tbody tr th {\n",
       "        vertical-align: top;\n",
       "    }\n",
       "\n",
       "    .dataframe thead th {\n",
       "        text-align: right;\n",
       "    }\n",
       "</style>\n",
       "<table border=\"1\" class=\"dataframe\">\n",
       "  <thead>\n",
       "    <tr style=\"text-align: right;\">\n",
       "      <th></th>\n",
       "      <th>school</th>\n",
       "      <th>sex</th>\n",
       "      <th>age</th>\n",
       "      <th>address</th>\n",
       "      <th>famsize</th>\n",
       "      <th>Pstatus</th>\n",
       "      <th>Medu</th>\n",
       "      <th>Fedu</th>\n",
       "      <th>Mjob</th>\n",
       "      <th>Fjob</th>\n",
       "      <th>...</th>\n",
       "      <th>Fjob_other</th>\n",
       "      <th>Fjob_services</th>\n",
       "      <th>Fjob_teacher</th>\n",
       "      <th>reason_course</th>\n",
       "      <th>reason_home</th>\n",
       "      <th>reason_other</th>\n",
       "      <th>reason_reputation</th>\n",
       "      <th>guardian_father</th>\n",
       "      <th>guardian_mother</th>\n",
       "      <th>guardian_other</th>\n",
       "    </tr>\n",
       "  </thead>\n",
       "  <tbody>\n",
       "    <tr>\n",
       "      <th>0</th>\n",
       "      <td>GP</td>\n",
       "      <td>F</td>\n",
       "      <td>18</td>\n",
       "      <td>U</td>\n",
       "      <td>GT3</td>\n",
       "      <td>A</td>\n",
       "      <td>4</td>\n",
       "      <td>4</td>\n",
       "      <td>at_home</td>\n",
       "      <td>teacher</td>\n",
       "      <td>...</td>\n",
       "      <td>0</td>\n",
       "      <td>0</td>\n",
       "      <td>1</td>\n",
       "      <td>1</td>\n",
       "      <td>0</td>\n",
       "      <td>0</td>\n",
       "      <td>0</td>\n",
       "      <td>0</td>\n",
       "      <td>1</td>\n",
       "      <td>0</td>\n",
       "    </tr>\n",
       "    <tr>\n",
       "      <th>1</th>\n",
       "      <td>GP</td>\n",
       "      <td>F</td>\n",
       "      <td>17</td>\n",
       "      <td>U</td>\n",
       "      <td>GT3</td>\n",
       "      <td>T</td>\n",
       "      <td>1</td>\n",
       "      <td>1</td>\n",
       "      <td>at_home</td>\n",
       "      <td>other</td>\n",
       "      <td>...</td>\n",
       "      <td>1</td>\n",
       "      <td>0</td>\n",
       "      <td>0</td>\n",
       "      <td>1</td>\n",
       "      <td>0</td>\n",
       "      <td>0</td>\n",
       "      <td>0</td>\n",
       "      <td>1</td>\n",
       "      <td>0</td>\n",
       "      <td>0</td>\n",
       "    </tr>\n",
       "    <tr>\n",
       "      <th>2</th>\n",
       "      <td>GP</td>\n",
       "      <td>F</td>\n",
       "      <td>15</td>\n",
       "      <td>U</td>\n",
       "      <td>LE3</td>\n",
       "      <td>T</td>\n",
       "      <td>1</td>\n",
       "      <td>1</td>\n",
       "      <td>at_home</td>\n",
       "      <td>other</td>\n",
       "      <td>...</td>\n",
       "      <td>1</td>\n",
       "      <td>0</td>\n",
       "      <td>0</td>\n",
       "      <td>0</td>\n",
       "      <td>0</td>\n",
       "      <td>1</td>\n",
       "      <td>0</td>\n",
       "      <td>0</td>\n",
       "      <td>1</td>\n",
       "      <td>0</td>\n",
       "    </tr>\n",
       "    <tr>\n",
       "      <th>3</th>\n",
       "      <td>GP</td>\n",
       "      <td>F</td>\n",
       "      <td>15</td>\n",
       "      <td>U</td>\n",
       "      <td>GT3</td>\n",
       "      <td>T</td>\n",
       "      <td>4</td>\n",
       "      <td>2</td>\n",
       "      <td>health</td>\n",
       "      <td>services</td>\n",
       "      <td>...</td>\n",
       "      <td>0</td>\n",
       "      <td>1</td>\n",
       "      <td>0</td>\n",
       "      <td>0</td>\n",
       "      <td>1</td>\n",
       "      <td>0</td>\n",
       "      <td>0</td>\n",
       "      <td>0</td>\n",
       "      <td>1</td>\n",
       "      <td>0</td>\n",
       "    </tr>\n",
       "    <tr>\n",
       "      <th>4</th>\n",
       "      <td>GP</td>\n",
       "      <td>F</td>\n",
       "      <td>16</td>\n",
       "      <td>U</td>\n",
       "      <td>GT3</td>\n",
       "      <td>T</td>\n",
       "      <td>3</td>\n",
       "      <td>3</td>\n",
       "      <td>other</td>\n",
       "      <td>other</td>\n",
       "      <td>...</td>\n",
       "      <td>1</td>\n",
       "      <td>0</td>\n",
       "      <td>0</td>\n",
       "      <td>0</td>\n",
       "      <td>1</td>\n",
       "      <td>0</td>\n",
       "      <td>0</td>\n",
       "      <td>1</td>\n",
       "      <td>0</td>\n",
       "      <td>0</td>\n",
       "    </tr>\n",
       "  </tbody>\n",
       "</table>\n",
       "<p>5 rows × 63 columns</p>\n",
       "</div>"
      ],
      "text/plain": [
       "  school sex  age address famsize Pstatus  Medu  Fedu     Mjob      Fjob  ...  \\\n",
       "0     GP   F   18       U     GT3       A     4     4  at_home   teacher  ...   \n",
       "1     GP   F   17       U     GT3       T     1     1  at_home     other  ...   \n",
       "2     GP   F   15       U     LE3       T     1     1  at_home     other  ...   \n",
       "3     GP   F   15       U     GT3       T     4     2   health  services  ...   \n",
       "4     GP   F   16       U     GT3       T     3     3    other     other  ...   \n",
       "\n",
       "  Fjob_other Fjob_services  Fjob_teacher  reason_course  reason_home  \\\n",
       "0          0             0             1              1            0   \n",
       "1          1             0             0              1            0   \n",
       "2          1             0             0              0            0   \n",
       "3          0             1             0              0            1   \n",
       "4          1             0             0              0            1   \n",
       "\n",
       "  reason_other reason_reputation guardian_father guardian_mother  \\\n",
       "0            0                 0               0               1   \n",
       "1            0                 0               1               0   \n",
       "2            1                 0               0               1   \n",
       "3            0                 0               0               1   \n",
       "4            0                 0               1               0   \n",
       "\n",
       "  guardian_other  \n",
       "0              0  \n",
       "1              0  \n",
       "2              0  \n",
       "3              0  \n",
       "4              0  \n",
       "\n",
       "[5 rows x 63 columns]"
      ]
     },
     "execution_count": 38,
     "metadata": {},
     "output_type": "execute_result"
    }
   ],
   "source": [
    "#now we need to add these new dummies into the dataframe\n",
    "df_merged = pd.concat([df_merged,Mjob_dum,Fjob_dum,reason_dum,guardian_dum],axis=1)\n",
    "df_merged.head()"
   ]
  },
  {
   "cell_type": "code",
   "execution_count": 39,
   "metadata": {
    "collapsed": true
   },
   "outputs": [
    {
     "name": "stdout",
     "output_type": "stream",
     "text": [
      "<class 'pandas.core.frame.DataFrame'>\n",
      "Int64Index: 1044 entries, 0 to 648\n",
      "Data columns (total 63 columns):\n",
      " #   Column             Non-Null Count  Dtype \n",
      "---  ------             --------------  ----- \n",
      " 0   school             1044 non-null   object\n",
      " 1   sex                1044 non-null   object\n",
      " 2   age                1044 non-null   int64 \n",
      " 3   address            1044 non-null   object\n",
      " 4   famsize            1044 non-null   object\n",
      " 5   Pstatus            1044 non-null   object\n",
      " 6   Medu               1044 non-null   int64 \n",
      " 7   Fedu               1044 non-null   int64 \n",
      " 8   Mjob               1044 non-null   object\n",
      " 9   Fjob               1044 non-null   object\n",
      " 10  reason             1044 non-null   object\n",
      " 11  guardian           1044 non-null   object\n",
      " 12  traveltime         1044 non-null   int64 \n",
      " 13  studytime          1044 non-null   int64 \n",
      " 14  failures           1044 non-null   int64 \n",
      " 15  schoolsup          1044 non-null   object\n",
      " 16  famsup             1044 non-null   object\n",
      " 17  paid               1044 non-null   object\n",
      " 18  activities         1044 non-null   object\n",
      " 19  nursery            1044 non-null   object\n",
      " 20  higher             1044 non-null   object\n",
      " 21  internet           1044 non-null   object\n",
      " 22  romantic           1044 non-null   object\n",
      " 23  famrel             1044 non-null   int64 \n",
      " 24  freetime           1044 non-null   int64 \n",
      " 25  goout              1044 non-null   int64 \n",
      " 26  Dalc               1044 non-null   int64 \n",
      " 27  Walc               1044 non-null   int64 \n",
      " 28  health             1044 non-null   int64 \n",
      " 29  absences           1044 non-null   int64 \n",
      " 30  G1                 1044 non-null   int64 \n",
      " 31  G2                 1044 non-null   int64 \n",
      " 32  G3                 1044 non-null   int64 \n",
      " 33  school_dum         1044 non-null   int64 \n",
      " 34  sex_dum            1044 non-null   int64 \n",
      " 35  address_dum        1044 non-null   int64 \n",
      " 36  famsize_dum        1044 non-null   int64 \n",
      " 37  Pstatus_dum        1044 non-null   int64 \n",
      " 38  schoolsup_dum      1044 non-null   int64 \n",
      " 39  famsup_dum         1044 non-null   int64 \n",
      " 40  paid_dum           1044 non-null   int64 \n",
      " 41  activities_dum     1044 non-null   int64 \n",
      " 42  nursery_dum        1044 non-null   int64 \n",
      " 43  higher_dum         1044 non-null   int64 \n",
      " 44  internet_dum       1044 non-null   int64 \n",
      " 45  romantic_dum       1044 non-null   int64 \n",
      " 46  Mjob_at_home       1044 non-null   uint8 \n",
      " 47  Mjob_health        1044 non-null   uint8 \n",
      " 48  Mjob_other         1044 non-null   uint8 \n",
      " 49  Mjob_services      1044 non-null   uint8 \n",
      " 50  Mjob_teacher       1044 non-null   uint8 \n",
      " 51  Fjob_at_home       1044 non-null   uint8 \n",
      " 52  Fjob_health        1044 non-null   uint8 \n",
      " 53  Fjob_other         1044 non-null   uint8 \n",
      " 54  Fjob_services      1044 non-null   uint8 \n",
      " 55  Fjob_teacher       1044 non-null   uint8 \n",
      " 56  reason_course      1044 non-null   uint8 \n",
      " 57  reason_home        1044 non-null   uint8 \n",
      " 58  reason_other       1044 non-null   uint8 \n",
      " 59  reason_reputation  1044 non-null   uint8 \n",
      " 60  guardian_father    1044 non-null   uint8 \n",
      " 61  guardian_mother    1044 non-null   uint8 \n",
      " 62  guardian_other     1044 non-null   uint8 \n",
      "dtypes: int64(29), object(17), uint8(17)\n",
      "memory usage: 400.7+ KB\n"
     ]
    }
   ],
   "source": [
    "df_merged.info()"
   ]
  },
  {
   "cell_type": "code",
   "execution_count": 42,
   "metadata": {},
   "outputs": [],
   "source": [
    "#create and train a linear regression model for predicting number of absences for a given student\n",
    "#this will be a multivariable linear regression\n",
    "\n",
    "#set X variables: these will be the predictors\n",
    "X = df_merged[[\"school_dum\",\"sex_dum\",\"address_dum\",\"famsize_dum\",\"Pstatus_dum\",\"schoolsup_dum\",\"famsup_dum\",\"paid_dum\",\"activities_dum\",\"nursery_dum\",\"higher_dum\",\"internet_dum\",\"romantic_dum\",\"Mjob_health\",\"Mjob_services\",\"Mjob_at_home\",\"Mjob_other\",\"Fjob_health\",\"Fjob_services\",\"Fjob_at_home\",\"Fjob_other\",\"reason_home\",\"reason_reputation\",\"reason_course\",\"reason_other\",\"guardian_mother\",\"guardian_father\",\"guardian_other\",\"age\",\"G1\",\"G2\",\"G3\",\"Medu\",\"Fedu\",\"traveltime\",\"studytime\",\"failures\",\"famrel\",\"freetime\",\"goout\",\"Dalc\",\"Walc\",\"health\"]]\n",
    "#Set Y variable: this will be the rsponse variable \n",
    "y = df_merged[[\"absences\"]]\n",
    "\n"
   ]
  },
  {
   "cell_type": "code",
   "execution_count": 44,
   "metadata": {},
   "outputs": [],
   "source": [
    "#import machine learning\n",
    "import sklearn\n",
    "from sklearn.model_selection import train_test_split"
   ]
  },
  {
   "cell_type": "code",
   "execution_count": 45,
   "metadata": {},
   "outputs": [],
   "source": [
    "#split the data\n",
    "X_train, X_test, y_train, y_test = train_test_split(X,y,test_size=0.20,random_state=1)"
   ]
  },
  {
   "cell_type": "code",
   "execution_count": 46,
   "metadata": {},
   "outputs": [],
   "source": [
    "#train the model\n",
    "from sklearn.linear_model import LinearRegression\n",
    "model = LinearRegression()\n",
    "fit_model = model.fit(X_train, y_train)"
   ]
  },
  {
   "cell_type": "code",
   "execution_count": 48,
   "metadata": {
    "scrolled": true
   },
   "outputs": [
    {
     "name": "stdout",
     "output_type": "stream",
     "text": [
      "the cofficient for school_dum is -2.60827543467403\n",
      "the cofficient for sex_dum is 1.0250937936353413\n",
      "the cofficient for address_dum is 0.6369747756228658\n",
      "the cofficient for famsize_dum is -0.28074700665881497\n",
      "the cofficient for Pstatus_dum is 1.4676357232821522\n",
      "the cofficient for schoolsup_dum is 0.4966134583820317\n",
      "the cofficient for famsup_dum is 0.33307565035464093\n",
      "the cofficient for paid_dum is -0.9443338129801073\n",
      "the cofficient for activities_dum is 0.04355303118913775\n",
      "the cofficient for nursery_dum is -0.22458620332348483\n",
      "the cofficient for higher_dum is -0.015321733700057526\n",
      "the cofficient for internet_dum is -0.8045386714282132\n",
      "the cofficient for romantic_dum is -1.0630711488872377\n",
      "the cofficient for Mjob_health is -1.474711084312887\n",
      "the cofficient for Mjob_services is 0.8482572065061428\n",
      "the cofficient for Mjob_at_home is 0.6815391069957022\n",
      "the cofficient for Mjob_other is 1.4354903267471482\n",
      "the cofficient for Fjob_health is 0.315715424897559\n",
      "the cofficient for Fjob_services is 0.2723304519935046\n",
      "the cofficient for Fjob_at_home is 0.38166436078264204\n",
      "the cofficient for Fjob_other is -0.5170199012556137\n",
      "the cofficient for reason_home is 0.9422891603909592\n",
      "the cofficient for reason_reputation is 0.5805650092969556\n",
      "the cofficient for reason_course is -1.0200285258139354\n",
      "the cofficient for reason_other is -0.5028256438739914\n",
      "the cofficient for guardian_mother is -0.1977149407237047\n",
      "the cofficient for guardian_father is -0.5653498688861578\n",
      "the cofficient for guardian_other is 0.763064809609867\n",
      "the cofficient for age is 0.4562817824407528\n",
      "the cofficient for G1 is -0.22641406067819583\n",
      "the cofficient for G2 is -0.4413133440433125\n",
      "the cofficient for G3 is 0.45175564904462995\n",
      "the cofficient for Medu is 0.6156838515148448\n",
      "the cofficient for Fedu is 0.17307366669469595\n",
      "the cofficient for traveltime is 0.1865828530076658\n",
      "the cofficient for studytime is -0.6763082737886515\n",
      "the cofficient for failures is 0.47575642116946804\n",
      "the cofficient for famrel is -0.21501748241833976\n",
      "the cofficient for freetime is -0.49279834983391674\n",
      "the cofficient for goout is 0.038919622176883995\n",
      "the cofficient for Dalc is 0.3361863599250231\n",
      "the cofficient for Walc is 0.4186371480748497\n",
      "the cofficient for health is -0.0454668357668351\n"
     ]
    }
   ],
   "source": [
    "#find the coefficients for the x variables\n",
    "for i, col_name in enumerate(X_train.columns):\n",
    "    print(\"the cofficient for {} is {}\".format(col_name,model.coef_[0][i]))"
   ]
  },
  {
   "cell_type": "code",
   "execution_count": 51,
   "metadata": {},
   "outputs": [
    {
     "name": "stdout",
     "output_type": "stream",
     "text": [
      "The intercept for our model is -0.06878869683886002\n"
     ]
    }
   ],
   "source": [
    "#find the intercept\n",
    "intercept = model.intercept_[0]\n",
    "print(\"The intercept for our model is {}\".format(intercept))"
   ]
  },
  {
   "cell_type": "code",
   "execution_count": 55,
   "metadata": {},
   "outputs": [
    {
     "data": {
      "text/plain": [
       "0.04164417403455767"
      ]
     },
     "execution_count": 55,
     "metadata": {},
     "output_type": "execute_result"
    }
   ],
   "source": [
    "#determine the R2 aka the accuracy score\n",
    "model.score(X_test,y_test)\n",
    "#R2 is 4.16% --> bad\n"
   ]
  },
  {
   "cell_type": "code",
   "execution_count": 53,
   "metadata": {},
   "outputs": [
    {
     "data": {
      "text/plain": [
       "27.20856460988612"
      ]
     },
     "execution_count": 53,
     "metadata": {},
     "output_type": "execute_result"
    }
   ],
   "source": [
    "#determine the MSE\n",
    "from sklearn.metrics import mean_squared_error\n",
    "y_predict = model.predict(X_test)\n",
    "model_mse = mean_squared_error(y_predict, y_test)\n",
    "model_mse"
   ]
  },
  {
   "cell_type": "code",
   "execution_count": 54,
   "metadata": {},
   "outputs": [
    {
     "data": {
      "text/plain": [
       "5.216182954027411"
      ]
     },
     "execution_count": 54,
     "metadata": {},
     "output_type": "execute_result"
    }
   ],
   "source": [
    "#now get the RMSE\n",
    "import math\n",
    "math.sqrt(model_mse)"
   ]
  },
  {
   "cell_type": "markdown",
   "metadata": {},
   "source": [
    "The R2 score measures the accuracy of this model. The score of 0.0416 means that 4.16% of the variability in absences can be explained by using \"x\" variables, or 4.16% of variance in absences is accounted for by this model. In other terms, it means that this model is not good at predicting absences for students.\n",
    "\n",
    "The RMSE is the square root of the variance of residuals. It is the space/distance from the predicted y value (line of fit) to the data points (y test). It shows how close the observed data points are in comparison to the model's predicted values. It shows how concentrated the data is around the line of best fit. This is the absolute measure of fit. Seeing as our intercept is small as well as our coefficients, a RMSE of 5 is large in terms of this data's scale. This means that the data is not very concentrated around the line of best fit and therefore is not fitted well. This means that this model is not great at predicting absences, as the prediction (line of fit) is far away from the actual data values (y test)."
   ]
  },
  {
   "cell_type": "code",
   "execution_count": 59,
   "metadata": {},
   "outputs": [
    {
     "data": {
      "text/html": [
       "<div>\n",
       "<style scoped>\n",
       "    .dataframe tbody tr th:only-of-type {\n",
       "        vertical-align: middle;\n",
       "    }\n",
       "\n",
       "    .dataframe tbody tr th {\n",
       "        vertical-align: top;\n",
       "    }\n",
       "\n",
       "    .dataframe thead th {\n",
       "        text-align: right;\n",
       "    }\n",
       "</style>\n",
       "<table border=\"1\" class=\"dataframe\">\n",
       "  <thead>\n",
       "    <tr style=\"text-align: right;\">\n",
       "      <th></th>\n",
       "      <th>school</th>\n",
       "      <th>sex</th>\n",
       "      <th>age</th>\n",
       "      <th>address</th>\n",
       "      <th>famsize</th>\n",
       "      <th>Pstatus</th>\n",
       "      <th>Medu</th>\n",
       "      <th>Fedu</th>\n",
       "      <th>Mjob</th>\n",
       "      <th>Fjob</th>\n",
       "      <th>...</th>\n",
       "      <th>Fjob_other</th>\n",
       "      <th>Fjob_services</th>\n",
       "      <th>Fjob_teacher</th>\n",
       "      <th>reason_course</th>\n",
       "      <th>reason_home</th>\n",
       "      <th>reason_other</th>\n",
       "      <th>reason_reputation</th>\n",
       "      <th>guardian_father</th>\n",
       "      <th>guardian_mother</th>\n",
       "      <th>guardian_other</th>\n",
       "    </tr>\n",
       "  </thead>\n",
       "  <tbody>\n",
       "    <tr>\n",
       "      <th>0</th>\n",
       "      <td>GP</td>\n",
       "      <td>F</td>\n",
       "      <td>18</td>\n",
       "      <td>U</td>\n",
       "      <td>GT3</td>\n",
       "      <td>A</td>\n",
       "      <td>4</td>\n",
       "      <td>4</td>\n",
       "      <td>at_home</td>\n",
       "      <td>teacher</td>\n",
       "      <td>...</td>\n",
       "      <td>0</td>\n",
       "      <td>0</td>\n",
       "      <td>1</td>\n",
       "      <td>1</td>\n",
       "      <td>0</td>\n",
       "      <td>0</td>\n",
       "      <td>0</td>\n",
       "      <td>0</td>\n",
       "      <td>1</td>\n",
       "      <td>0</td>\n",
       "    </tr>\n",
       "    <tr>\n",
       "      <th>1</th>\n",
       "      <td>GP</td>\n",
       "      <td>F</td>\n",
       "      <td>17</td>\n",
       "      <td>U</td>\n",
       "      <td>GT3</td>\n",
       "      <td>T</td>\n",
       "      <td>1</td>\n",
       "      <td>1</td>\n",
       "      <td>at_home</td>\n",
       "      <td>other</td>\n",
       "      <td>...</td>\n",
       "      <td>1</td>\n",
       "      <td>0</td>\n",
       "      <td>0</td>\n",
       "      <td>1</td>\n",
       "      <td>0</td>\n",
       "      <td>0</td>\n",
       "      <td>0</td>\n",
       "      <td>1</td>\n",
       "      <td>0</td>\n",
       "      <td>0</td>\n",
       "    </tr>\n",
       "    <tr>\n",
       "      <th>2</th>\n",
       "      <td>GP</td>\n",
       "      <td>F</td>\n",
       "      <td>15</td>\n",
       "      <td>U</td>\n",
       "      <td>LE3</td>\n",
       "      <td>T</td>\n",
       "      <td>1</td>\n",
       "      <td>1</td>\n",
       "      <td>at_home</td>\n",
       "      <td>other</td>\n",
       "      <td>...</td>\n",
       "      <td>1</td>\n",
       "      <td>0</td>\n",
       "      <td>0</td>\n",
       "      <td>0</td>\n",
       "      <td>0</td>\n",
       "      <td>1</td>\n",
       "      <td>0</td>\n",
       "      <td>0</td>\n",
       "      <td>1</td>\n",
       "      <td>0</td>\n",
       "    </tr>\n",
       "    <tr>\n",
       "      <th>3</th>\n",
       "      <td>GP</td>\n",
       "      <td>F</td>\n",
       "      <td>15</td>\n",
       "      <td>U</td>\n",
       "      <td>GT3</td>\n",
       "      <td>T</td>\n",
       "      <td>4</td>\n",
       "      <td>2</td>\n",
       "      <td>health</td>\n",
       "      <td>services</td>\n",
       "      <td>...</td>\n",
       "      <td>0</td>\n",
       "      <td>1</td>\n",
       "      <td>0</td>\n",
       "      <td>0</td>\n",
       "      <td>1</td>\n",
       "      <td>0</td>\n",
       "      <td>0</td>\n",
       "      <td>0</td>\n",
       "      <td>1</td>\n",
       "      <td>0</td>\n",
       "    </tr>\n",
       "    <tr>\n",
       "      <th>4</th>\n",
       "      <td>GP</td>\n",
       "      <td>F</td>\n",
       "      <td>16</td>\n",
       "      <td>U</td>\n",
       "      <td>GT3</td>\n",
       "      <td>T</td>\n",
       "      <td>3</td>\n",
       "      <td>3</td>\n",
       "      <td>other</td>\n",
       "      <td>other</td>\n",
       "      <td>...</td>\n",
       "      <td>1</td>\n",
       "      <td>0</td>\n",
       "      <td>0</td>\n",
       "      <td>0</td>\n",
       "      <td>1</td>\n",
       "      <td>0</td>\n",
       "      <td>0</td>\n",
       "      <td>1</td>\n",
       "      <td>0</td>\n",
       "      <td>0</td>\n",
       "    </tr>\n",
       "  </tbody>\n",
       "</table>\n",
       "<p>5 rows × 63 columns</p>\n",
       "</div>"
      ],
      "text/plain": [
       "  school sex  age address famsize Pstatus  Medu  Fedu     Mjob      Fjob  ...  \\\n",
       "0     GP   F   18       U     GT3       A     4     4  at_home   teacher  ...   \n",
       "1     GP   F   17       U     GT3       T     1     1  at_home     other  ...   \n",
       "2     GP   F   15       U     LE3       T     1     1  at_home     other  ...   \n",
       "3     GP   F   15       U     GT3       T     4     2   health  services  ...   \n",
       "4     GP   F   16       U     GT3       T     3     3    other     other  ...   \n",
       "\n",
       "  Fjob_other Fjob_services  Fjob_teacher  reason_course  reason_home  \\\n",
       "0          0             0             1              1            0   \n",
       "1          1             0             0              1            0   \n",
       "2          1             0             0              0            0   \n",
       "3          0             1             0              0            1   \n",
       "4          1             0             0              0            1   \n",
       "\n",
       "  reason_other reason_reputation guardian_father guardian_mother  \\\n",
       "0            0                 0               0               1   \n",
       "1            0                 0               1               0   \n",
       "2            1                 0               0               1   \n",
       "3            0                 0               0               1   \n",
       "4            0                 0               1               0   \n",
       "\n",
       "  guardian_other  \n",
       "0              0  \n",
       "1              0  \n",
       "2              0  \n",
       "3              0  \n",
       "4              0  \n",
       "\n",
       "[5 rows x 63 columns]"
      ]
     },
     "execution_count": 59,
     "metadata": {},
     "output_type": "execute_result"
    }
   ],
   "source": [
    "df_merged.head()"
   ]
  },
  {
   "cell_type": "markdown",
   "metadata": {},
   "source": [
    "Model #1: look at parents factors to predict: x = guardian, Mjob, Fjob, Medu, Fedu, famsup"
   ]
  },
  {
   "cell_type": "code",
   "execution_count": 61,
   "metadata": {},
   "outputs": [],
   "source": [
    "X = df_merged[[\"guardian_mother\",\"guardian_father\",\"guardian_other\",\"Medu\",\"Fedu\",\"famsup_dum\",\"Mjob_health\",\"Mjob_services\",\"Mjob_at_home\",\"Mjob_other\",\"Fjob_health\",\"Fjob_services\",\"Fjob_at_home\",\"Fjob_other\"]]\n",
    "y = df_merged[[\"absences\"]]\n",
    "\n",
    "X_train, X_test, y_train, y_test = train_test_split(X,y, test_size=0.20,random_state=1)\n",
    "\n",
    "M1 = LinearRegression()\n",
    "fit_M1 = M1.fit(X_train,y_train)"
   ]
  },
  {
   "cell_type": "code",
   "execution_count": 63,
   "metadata": {
    "collapsed": true
   },
   "outputs": [
    {
     "name": "stdout",
     "output_type": "stream",
     "text": [
      "the coefficient for guardian_mother is -0.5706768318068851\n",
      "the coefficient for guardian_father is -1.450632964945629\n",
      "the coefficient for guardian_other is 2.0213097967525138\n",
      "the coefficient for Medu is 0.7848743792713213\n",
      "the coefficient for Fedu is 0.23935890836210305\n",
      "the coefficient for famsup_dum is 0.10140964372882257\n",
      "the coefficient for Mjob_health is -0.953920915215738\n",
      "the coefficient for Mjob_services is 1.6710553494722704\n",
      "the coefficient for Mjob_at_home is 1.0301876179963987\n",
      "the coefficient for Mjob_other is 1.9923290569464904\n",
      "the coefficient for Fjob_health is 0.5217036884457069\n",
      "the coefficient for Fjob_services is 0.7316599552010873\n",
      "the coefficient for Fjob_at_home is 0.6964678681090658\n",
      "the coefficient for Fjob_other is 0.16288598445741273\n"
     ]
    }
   ],
   "source": [
    "for i, col_name in enumerate(X_train.columns):\n",
    "    print(\"the coefficient for {} is {}\".format(col_name,M1.coef_[0][i]))"
   ]
  },
  {
   "cell_type": "code",
   "execution_count": 64,
   "metadata": {},
   "outputs": [
    {
     "name": "stdout",
     "output_type": "stream",
     "text": [
      "the intercept for our model is 0.8675504326654191\n"
     ]
    }
   ],
   "source": [
    "intercept = M1.intercept_[0]\n",
    "print(\"the intercept for our model is {}\".format(intercept))"
   ]
  },
  {
   "cell_type": "code",
   "execution_count": 65,
   "metadata": {},
   "outputs": [
    {
     "data": {
      "text/plain": [
       "0.01397639264301187"
      ]
     },
     "execution_count": 65,
     "metadata": {},
     "output_type": "execute_result"
    }
   ],
   "source": [
    "M1.score(X_test,y_test) #R2"
   ]
  },
  {
   "cell_type": "code",
   "execution_count": 66,
   "metadata": {},
   "outputs": [
    {
     "data": {
      "text/plain": [
       "27.994077252693618"
      ]
     },
     "execution_count": 66,
     "metadata": {},
     "output_type": "execute_result"
    }
   ],
   "source": [
    "y_predict = M1.predict(X_test)\n",
    "M1_mse = mean_squared_error(y_predict, y_test)\n",
    "M1_mse\n"
   ]
  },
  {
   "cell_type": "code",
   "execution_count": 67,
   "metadata": {},
   "outputs": [
    {
     "data": {
      "text/plain": [
       "5.290942945514875"
      ]
     },
     "execution_count": 67,
     "metadata": {},
     "output_type": "execute_result"
    }
   ],
   "source": [
    "math.sqrt(M1_mse) #RSME"
   ]
  },
  {
   "cell_type": "markdown",
   "metadata": {},
   "source": [
    "This model is similar to the original model, but a little worse. The R2 and the RMSE both aren't great, meaning that this model #1 isn't very good at predicting absences. It isn't very accurate."
   ]
  },
  {
   "cell_type": "markdown",
   "metadata": {},
   "source": [
    "Model #2: look at student: x = sex, age, nursery, higher, romantic, Dalc, Walc, health"
   ]
  },
  {
   "cell_type": "code",
   "execution_count": 74,
   "metadata": {},
   "outputs": [],
   "source": [
    "X = df_merged[[\"sex_dum\",\"age\",\"nursery_dum\",\"higher_dum\",\"romantic_dum\",\"Dalc\",\"Walc\",\"health\"]]\n",
    "y = df_merged[[\"absences\"]]\n",
    "              \n",
    "X_train, X_test, y_train, y_test = train_test_split(X,y, test_size=0.20,random_state=1)\n",
    "\n",
    "M2 = LinearRegression()\n",
    "fit_M2 = M2.fit(X_train,y_train)"
   ]
  },
  {
   "cell_type": "code",
   "execution_count": 75,
   "metadata": {
    "collapsed": true
   },
   "outputs": [
    {
     "name": "stdout",
     "output_type": "stream",
     "text": [
      "the coefficient for sex_dum is 0.6284368797847425\n",
      "the coefficient for age is 0.508800973343616\n",
      "the coefficient for nursery_dum is -0.2801266412110877\n",
      "the coefficient for higher_dum is -0.3878830114718681\n",
      "the coefficient for romantic_dum is -1.108786515785852\n",
      "the coefficient for Dalc is 0.537177736352373\n",
      "the coefficient for Walc is 0.46674030508015496\n",
      "the coefficient for health is -0.14938794307858405\n"
     ]
    }
   ],
   "source": [
    "for i, col_name in enumerate(X_train.columns):\n",
    "    print(\"the coefficient for {} is {}\".format(col_name,M2.coef_[0][i]))"
   ]
  },
  {
   "cell_type": "code",
   "execution_count": 76,
   "metadata": {},
   "outputs": [
    {
     "name": "stdout",
     "output_type": "stream",
     "text": [
      "the intercept for our model is -4.902950768275635\n"
     ]
    }
   ],
   "source": [
    "intercept = M2.intercept_[0]\n",
    "print(\"the intercept for our model is {}\".format(intercept))"
   ]
  },
  {
   "cell_type": "code",
   "execution_count": 77,
   "metadata": {},
   "outputs": [
    {
     "data": {
      "text/plain": [
       "0.0723382680021647"
      ]
     },
     "execution_count": 77,
     "metadata": {},
     "output_type": "execute_result"
    }
   ],
   "source": [
    "M2.score(X_test,y_test) #R2"
   ]
  },
  {
   "cell_type": "code",
   "execution_count": 78,
   "metadata": {},
   "outputs": [
    {
     "data": {
      "text/plain": [
       "26.337132291917754"
      ]
     },
     "execution_count": 78,
     "metadata": {},
     "output_type": "execute_result"
    }
   ],
   "source": [
    "y_predict = M2.predict(X_test)\n",
    "M2_mse = mean_squared_error(y_predict, y_test)\n",
    "M2_mse\n"
   ]
  },
  {
   "cell_type": "code",
   "execution_count": 79,
   "metadata": {},
   "outputs": [
    {
     "data": {
      "text/plain": [
       "5.1319715794144605"
      ]
     },
     "execution_count": 79,
     "metadata": {},
     "output_type": "execute_result"
    }
   ],
   "source": [
    "math.sqrt(M2_mse) #RSME"
   ]
  },
  {
   "cell_type": "markdown",
   "metadata": {},
   "source": [
    "Very similar to the original model and M1, but it has improved slightly. The R2 is still low but improved by about 3% from the original model. The  RMSE improved slightly as well. Overall, this still isn't very good model for predicting absences. It isn't very accurate. However, it is the best model so far. "
   ]
  },
  {
   "cell_type": "markdown",
   "metadata": {},
   "source": [
    "Model #3: look at home life: x = address, famsize, Pstatus, internet"
   ]
  },
  {
   "cell_type": "code",
   "execution_count": 80,
   "metadata": {},
   "outputs": [],
   "source": [
    "X = df_merged[[\"address_dum\",\"famsize_dum\",\"Pstatus_dum\",\"internet_dum\"]]\n",
    "y = df_merged[[\"absences\"]]\n",
    "              \n",
    "X_train, X_test, y_train, y_test = train_test_split(X,y, test_size=0.20,random_state=1)\n",
    "\n",
    "M3 = LinearRegression()\n",
    "fit_M3 = M3.fit(X_train,y_train)"
   ]
  },
  {
   "cell_type": "code",
   "execution_count": 81,
   "metadata": {
    "scrolled": true
   },
   "outputs": [
    {
     "name": "stdout",
     "output_type": "stream",
     "text": [
      "the coefficient for address_dum is -0.04485617505478226\n",
      "the coefficient for famsize_dum is 0.1016094112938627\n",
      "the coefficient for Pstatus_dum is 2.35570459687644\n",
      "the coefficient for internet_dum is -1.5911155014139653\n"
     ]
    }
   ],
   "source": [
    "for i, col_name in enumerate(X_train.columns):\n",
    "    print(\"the coefficient for {} is {}\".format(col_name,M3.coef_[0][i]))"
   ]
  },
  {
   "cell_type": "code",
   "execution_count": 82,
   "metadata": {},
   "outputs": [
    {
     "name": "stdout",
     "output_type": "stream",
     "text": [
      "the intercept for our model is 4.486813997295344\n"
     ]
    }
   ],
   "source": [
    "intercept = M3.intercept_[0]\n",
    "print(\"the intercept for our model is {}\".format(intercept))"
   ]
  },
  {
   "cell_type": "code",
   "execution_count": 83,
   "metadata": {},
   "outputs": [
    {
     "data": {
      "text/plain": [
       "0.0197197065909821"
      ]
     },
     "execution_count": 83,
     "metadata": {},
     "output_type": "execute_result"
    }
   ],
   "source": [
    "M3.score(X_test,y_test) #R2"
   ]
  },
  {
   "cell_type": "code",
   "execution_count": 84,
   "metadata": {},
   "outputs": [
    {
     "data": {
      "text/plain": [
       "27.831019519444297"
      ]
     },
     "execution_count": 84,
     "metadata": {},
     "output_type": "execute_result"
    }
   ],
   "source": [
    "y_predict = M3.predict(X_test)\n",
    "M3_mse = mean_squared_error(y_predict, y_test)\n",
    "M3_mse"
   ]
  },
  {
   "cell_type": "code",
   "execution_count": 85,
   "metadata": {},
   "outputs": [
    {
     "data": {
      "text/plain": [
       "5.275511304077009"
      ]
     },
     "execution_count": 85,
     "metadata": {},
     "output_type": "execute_result"
    }
   ],
   "source": [
    "math.sqrt(M3_mse) #RSME"
   ]
  },
  {
   "cell_type": "markdown",
   "metadata": {},
   "source": [
    "This model did slightly better than model #1 but worse than model #2 and the original model. It isn't accurate or good at predicting absences"
   ]
  },
  {
   "cell_type": "markdown",
   "metadata": {},
   "source": [
    "The best model out of the four is model #2. It has an R2 of 7.23% and a RMSE of 5.13. This \"best\" model of the 4 isn't \"good\". The R2 is still low (not accurate model) and the RMSE is high for this model's scale. "
   ]
  },
  {
   "cell_type": "markdown",
   "metadata": {},
   "source": [
    "**END**"
   ]
  }
 ],
 "metadata": {
  "kernelspec": {
   "display_name": "Python 3",
   "language": "python",
   "name": "python3"
  },
  "language_info": {
   "codemirror_mode": {
    "name": "ipython",
    "version": 3
   },
   "file_extension": ".py",
   "mimetype": "text/x-python",
   "name": "python",
   "nbconvert_exporter": "python",
   "pygments_lexer": "ipython3",
   "version": "3.8.5"
  }
 },
 "nbformat": 4,
 "nbformat_minor": 4
}
