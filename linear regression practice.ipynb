{
 "cells": [
  {
   "cell_type": "code",
   "execution_count": 2,
   "metadata": {},
   "outputs": [],
   "source": [
    "import pandas as pd\n",
    "import numpy as np\n",
    "%matplotlib inline\n",
    "import matplotlib.pyplot as plt\n",
    "import sklearn\n",
    "from sklearn.model_selection import train_test_split "
   ]
  },
  {
   "cell_type": "code",
   "execution_count": null,
   "metadata": {},
   "outputs": [],
   "source": [
    "#file = framingham_dataset.xlsx \n",
    "#how do we import something that isn't csv or txt?"
   ]
  },
  {
   "cell_type": "code",
   "execution_count": 3,
   "metadata": {},
   "outputs": [],
   "source": [
    "df = pd.read_excel(\"framingham_dataset.xlsx\")"
   ]
  },
  {
   "cell_type": "code",
   "execution_count": 4,
   "metadata": {},
   "outputs": [
    {
     "data": {
      "text/html": [
       "<div>\n",
       "<style scoped>\n",
       "    .dataframe tbody tr th:only-of-type {\n",
       "        vertical-align: middle;\n",
       "    }\n",
       "\n",
       "    .dataframe tbody tr th {\n",
       "        vertical-align: top;\n",
       "    }\n",
       "\n",
       "    .dataframe thead th {\n",
       "        text-align: right;\n",
       "    }\n",
       "</style>\n",
       "<table border=\"1\" class=\"dataframe\">\n",
       "  <thead>\n",
       "    <tr style=\"text-align: right;\">\n",
       "      <th></th>\n",
       "      <th>id</th>\n",
       "      <th>sex</th>\n",
       "      <th>sbp</th>\n",
       "      <th>dbp</th>\n",
       "      <th>scl</th>\n",
       "      <th>age</th>\n",
       "      <th>bmi</th>\n",
       "      <th>month</th>\n",
       "      <th>followup</th>\n",
       "      <th>chdfate</th>\n",
       "    </tr>\n",
       "  </thead>\n",
       "  <tbody>\n",
       "    <tr>\n",
       "      <th>0</th>\n",
       "      <td>2642</td>\n",
       "      <td>1</td>\n",
       "      <td>120</td>\n",
       "      <td>80</td>\n",
       "      <td>267.0</td>\n",
       "      <td>55</td>\n",
       "      <td>25.0</td>\n",
       "      <td>8</td>\n",
       "      <td>18</td>\n",
       "      <td>1</td>\n",
       "    </tr>\n",
       "    <tr>\n",
       "      <th>1</th>\n",
       "      <td>4627</td>\n",
       "      <td>1</td>\n",
       "      <td>130</td>\n",
       "      <td>78</td>\n",
       "      <td>192.0</td>\n",
       "      <td>53</td>\n",
       "      <td>28.4</td>\n",
       "      <td>12</td>\n",
       "      <td>35</td>\n",
       "      <td>1</td>\n",
       "    </tr>\n",
       "    <tr>\n",
       "      <th>2</th>\n",
       "      <td>2568</td>\n",
       "      <td>1</td>\n",
       "      <td>144</td>\n",
       "      <td>90</td>\n",
       "      <td>207.0</td>\n",
       "      <td>61</td>\n",
       "      <td>25.1</td>\n",
       "      <td>8</td>\n",
       "      <td>109</td>\n",
       "      <td>1</td>\n",
       "    </tr>\n",
       "    <tr>\n",
       "      <th>3</th>\n",
       "      <td>4192</td>\n",
       "      <td>1</td>\n",
       "      <td>92</td>\n",
       "      <td>66</td>\n",
       "      <td>231.0</td>\n",
       "      <td>48</td>\n",
       "      <td>26.2</td>\n",
       "      <td>11</td>\n",
       "      <td>147</td>\n",
       "      <td>1</td>\n",
       "    </tr>\n",
       "    <tr>\n",
       "      <th>4</th>\n",
       "      <td>3977</td>\n",
       "      <td>1</td>\n",
       "      <td>162</td>\n",
       "      <td>98</td>\n",
       "      <td>271.0</td>\n",
       "      <td>39</td>\n",
       "      <td>28.4</td>\n",
       "      <td>11</td>\n",
       "      <td>169</td>\n",
       "      <td>1</td>\n",
       "    </tr>\n",
       "  </tbody>\n",
       "</table>\n",
       "</div>"
      ],
      "text/plain": [
       "     id  sex  sbp  dbp    scl  age   bmi  month  followup  chdfate\n",
       "0  2642    1  120   80  267.0   55  25.0      8        18        1\n",
       "1  4627    1  130   78  192.0   53  28.4     12        35        1\n",
       "2  2568    1  144   90  207.0   61  25.1      8       109        1\n",
       "3  4192    1   92   66  231.0   48  26.2     11       147        1\n",
       "4  3977    1  162   98  271.0   39  28.4     11       169        1"
      ]
     },
     "execution_count": 4,
     "metadata": {},
     "output_type": "execute_result"
    }
   ],
   "source": [
    "df.head()"
   ]
  },
  {
   "cell_type": "code",
   "execution_count": 5,
   "metadata": {
    "collapsed": true
   },
   "outputs": [
    {
     "name": "stdout",
     "output_type": "stream",
     "text": [
      "<class 'pandas.core.frame.DataFrame'>\n",
      "RangeIndex: 4699 entries, 0 to 4698\n",
      "Data columns (total 10 columns):\n",
      " #   Column    Non-Null Count  Dtype  \n",
      "---  ------    --------------  -----  \n",
      " 0   id        4699 non-null   int64  \n",
      " 1   sex       4699 non-null   int64  \n",
      " 2   sbp       4699 non-null   int64  \n",
      " 3   dbp       4699 non-null   int64  \n",
      " 4   scl       4666 non-null   float64\n",
      " 5   age       4699 non-null   int64  \n",
      " 6   bmi       4690 non-null   float64\n",
      " 7   month     4699 non-null   int64  \n",
      " 8   followup  4699 non-null   int64  \n",
      " 9   chdfate   4699 non-null   int64  \n",
      "dtypes: float64(2), int64(8)\n",
      "memory usage: 367.2 KB\n"
     ]
    }
   ],
   "source": [
    "df.info()"
   ]
  },
  {
   "cell_type": "code",
   "execution_count": 6,
   "metadata": {},
   "outputs": [
    {
     "data": {
      "text/plain": [
       "(4699, 10)"
      ]
     },
     "execution_count": 6,
     "metadata": {},
     "output_type": "execute_result"
    }
   ],
   "source": [
    "df.shape"
   ]
  },
  {
   "cell_type": "code",
   "execution_count": 8,
   "metadata": {
    "collapsed": true
   },
   "outputs": [
    {
     "data": {
      "text/html": [
       "<div>\n",
       "<style scoped>\n",
       "    .dataframe tbody tr th:only-of-type {\n",
       "        vertical-align: middle;\n",
       "    }\n",
       "\n",
       "    .dataframe tbody tr th {\n",
       "        vertical-align: top;\n",
       "    }\n",
       "\n",
       "    .dataframe thead th {\n",
       "        text-align: right;\n",
       "    }\n",
       "</style>\n",
       "<table border=\"1\" class=\"dataframe\">\n",
       "  <thead>\n",
       "    <tr style=\"text-align: right;\">\n",
       "      <th></th>\n",
       "      <th>id</th>\n",
       "      <th>sex</th>\n",
       "      <th>sbp</th>\n",
       "      <th>dbp</th>\n",
       "      <th>scl</th>\n",
       "      <th>age</th>\n",
       "      <th>bmi</th>\n",
       "      <th>month</th>\n",
       "      <th>followup</th>\n",
       "      <th>chdfate</th>\n",
       "    </tr>\n",
       "  </thead>\n",
       "  <tbody>\n",
       "    <tr>\n",
       "      <th>count</th>\n",
       "      <td>4699.000000</td>\n",
       "      <td>4699.000000</td>\n",
       "      <td>4699.000000</td>\n",
       "      <td>4699.000000</td>\n",
       "      <td>4666.000000</td>\n",
       "      <td>4699.000000</td>\n",
       "      <td>4690.000000</td>\n",
       "      <td>4699.000000</td>\n",
       "      <td>4699.000000</td>\n",
       "      <td>4699.000000</td>\n",
       "    </tr>\n",
       "    <tr>\n",
       "      <th>mean</th>\n",
       "      <td>2350.000000</td>\n",
       "      <td>1.563950</td>\n",
       "      <td>132.766546</td>\n",
       "      <td>82.541605</td>\n",
       "      <td>228.292542</td>\n",
       "      <td>46.041073</td>\n",
       "      <td>25.631706</td>\n",
       "      <td>6.369227</td>\n",
       "      <td>8061.313258</td>\n",
       "      <td>0.313471</td>\n",
       "    </tr>\n",
       "    <tr>\n",
       "      <th>std</th>\n",
       "      <td>1356.628787</td>\n",
       "      <td>0.495946</td>\n",
       "      <td>22.801104</td>\n",
       "      <td>12.737322</td>\n",
       "      <td>44.542624</td>\n",
       "      <td>8.504363</td>\n",
       "      <td>4.094672</td>\n",
       "      <td>3.683821</td>\n",
       "      <td>3595.310856</td>\n",
       "      <td>0.463953</td>\n",
       "    </tr>\n",
       "    <tr>\n",
       "      <th>min</th>\n",
       "      <td>1.000000</td>\n",
       "      <td>1.000000</td>\n",
       "      <td>80.000000</td>\n",
       "      <td>40.000000</td>\n",
       "      <td>115.000000</td>\n",
       "      <td>30.000000</td>\n",
       "      <td>16.200000</td>\n",
       "      <td>1.000000</td>\n",
       "      <td>18.000000</td>\n",
       "      <td>0.000000</td>\n",
       "    </tr>\n",
       "    <tr>\n",
       "      <th>25%</th>\n",
       "      <td>1175.500000</td>\n",
       "      <td>1.000000</td>\n",
       "      <td>116.000000</td>\n",
       "      <td>74.000000</td>\n",
       "      <td>197.000000</td>\n",
       "      <td>39.000000</td>\n",
       "      <td>22.800000</td>\n",
       "      <td>3.000000</td>\n",
       "      <td>5136.500000</td>\n",
       "      <td>0.000000</td>\n",
       "    </tr>\n",
       "    <tr>\n",
       "      <th>50%</th>\n",
       "      <td>2350.000000</td>\n",
       "      <td>2.000000</td>\n",
       "      <td>130.000000</td>\n",
       "      <td>80.000000</td>\n",
       "      <td>225.000000</td>\n",
       "      <td>45.000000</td>\n",
       "      <td>25.200000</td>\n",
       "      <td>6.000000</td>\n",
       "      <td>8908.000000</td>\n",
       "      <td>0.000000</td>\n",
       "    </tr>\n",
       "    <tr>\n",
       "      <th>75%</th>\n",
       "      <td>3524.500000</td>\n",
       "      <td>2.000000</td>\n",
       "      <td>144.000000</td>\n",
       "      <td>90.000000</td>\n",
       "      <td>255.000000</td>\n",
       "      <td>53.000000</td>\n",
       "      <td>28.000000</td>\n",
       "      <td>10.000000</td>\n",
       "      <td>11648.000000</td>\n",
       "      <td>1.000000</td>\n",
       "    </tr>\n",
       "    <tr>\n",
       "      <th>max</th>\n",
       "      <td>4699.000000</td>\n",
       "      <td>2.000000</td>\n",
       "      <td>270.000000</td>\n",
       "      <td>148.000000</td>\n",
       "      <td>568.000000</td>\n",
       "      <td>68.000000</td>\n",
       "      <td>57.600000</td>\n",
       "      <td>12.000000</td>\n",
       "      <td>11688.000000</td>\n",
       "      <td>1.000000</td>\n",
       "    </tr>\n",
       "  </tbody>\n",
       "</table>\n",
       "</div>"
      ],
      "text/plain": [
       "                id          sex          sbp          dbp          scl  \\\n",
       "count  4699.000000  4699.000000  4699.000000  4699.000000  4666.000000   \n",
       "mean   2350.000000     1.563950   132.766546    82.541605   228.292542   \n",
       "std    1356.628787     0.495946    22.801104    12.737322    44.542624   \n",
       "min       1.000000     1.000000    80.000000    40.000000   115.000000   \n",
       "25%    1175.500000     1.000000   116.000000    74.000000   197.000000   \n",
       "50%    2350.000000     2.000000   130.000000    80.000000   225.000000   \n",
       "75%    3524.500000     2.000000   144.000000    90.000000   255.000000   \n",
       "max    4699.000000     2.000000   270.000000   148.000000   568.000000   \n",
       "\n",
       "               age          bmi        month      followup      chdfate  \n",
       "count  4699.000000  4690.000000  4699.000000   4699.000000  4699.000000  \n",
       "mean     46.041073    25.631706     6.369227   8061.313258     0.313471  \n",
       "std       8.504363     4.094672     3.683821   3595.310856     0.463953  \n",
       "min      30.000000    16.200000     1.000000     18.000000     0.000000  \n",
       "25%      39.000000    22.800000     3.000000   5136.500000     0.000000  \n",
       "50%      45.000000    25.200000     6.000000   8908.000000     0.000000  \n",
       "75%      53.000000    28.000000    10.000000  11648.000000     1.000000  \n",
       "max      68.000000    57.600000    12.000000  11688.000000     1.000000  "
      ]
     },
     "execution_count": 8,
     "metadata": {},
     "output_type": "execute_result"
    }
   ],
   "source": [
    "df.describe()"
   ]
  },
  {
   "cell_type": "code",
   "execution_count": null,
   "metadata": {},
   "outputs": [],
   "source": [
    "#lets predict serum cholesterol \n",
    "#predictors everything else - sbp, dbp, age, bmi"
   ]
  },
  {
   "cell_type": "code",
   "execution_count": null,
   "metadata": {},
   "outputs": [],
   "source": [
    "#IDed our predictors (x) and response (y)\n",
    "#train test split function from sklearn-- create 4 new variables\n",
    "#Train data to then \"train\" the model\n",
    "#model to predict / model to evaluate / model for new data "
   ]
  },
  {
   "cell_type": "code",
   "execution_count": 24,
   "metadata": {},
   "outputs": [],
   "source": [
    "X= df1[[\"sbp\",\"dbp\",\"age\",\"bmi\"]]\n",
    "y= df1[[\"scl\"]]"
   ]
  },
  {
   "cell_type": "code",
   "execution_count": 10,
   "metadata": {},
   "outputs": [
    {
     "data": {
      "text/plain": [
       "(4699, 4)"
      ]
     },
     "execution_count": 10,
     "metadata": {},
     "output_type": "execute_result"
    }
   ],
   "source": [
    "#proves we got 4 columns into the X variable \n",
    "X.shape"
   ]
  },
  {
   "cell_type": "code",
   "execution_count": 25,
   "metadata": {},
   "outputs": [],
   "source": [
    "#split into the 4 new variables\n",
    "#random_state --> when you randomized, it randomly is pulling the rows to create the splits\n",
    "X_train, X_test, y_train, y_test = train_test_split(X,y,test_size=0.20,random_state=1)"
   ]
  },
  {
   "cell_type": "code",
   "execution_count": 26,
   "metadata": {},
   "outputs": [
    {
     "name": "stdout",
     "output_type": "stream",
     "text": [
      "(3726, 4)\n",
      "(932, 4)\n",
      "(932, 1)\n"
     ]
    }
   ],
   "source": [
    "#see if we did it right\n",
    "#20% --> 940\n",
    "#80% --> 3759\n",
    "print(X_train.shape)\n",
    "print(X_test.shape)\n",
    "print(y_test.shape)"
   ]
  },
  {
   "cell_type": "code",
   "execution_count": 27,
   "metadata": {},
   "outputs": [],
   "source": [
    "#now that the variables are made, we need to train the machine to be a linear model\n",
    "from sklearn.linear_model import LinearRegression\n",
    "#pulling LR from sklearn that allows us to fit data to line of best fit\n",
    "linear_model = LinearRegression()\n",
    "#now we can fit the linear model\n",
    "fit_model = linear_model.fit(X_train, y_train)\n",
    "\n",
    "#we have our model\n"
   ]
  },
  {
   "cell_type": "code",
   "execution_count": 17,
   "metadata": {},
   "outputs": [
    {
     "data": {
      "text/plain": [
       "id           0\n",
       "sex          0\n",
       "sbp          0\n",
       "dbp          0\n",
       "scl         33\n",
       "age          0\n",
       "bmi          9\n",
       "month        0\n",
       "followup     0\n",
       "chdfate      0\n",
       "dtype: int64"
      ]
     },
     "execution_count": 17,
     "metadata": {},
     "output_type": "execute_result"
    }
   ],
   "source": [
    "df.isnull().sum()"
   ]
  },
  {
   "cell_type": "code",
   "execution_count": 18,
   "metadata": {},
   "outputs": [],
   "source": [
    "#had missing values, so we dropped them so we could make the model.\n",
    "df1 = df.dropna()"
   ]
  },
  {
   "cell_type": "code",
   "execution_count": 19,
   "metadata": {},
   "outputs": [
    {
     "data": {
      "text/plain": [
       "(4658, 10)"
      ]
     },
     "execution_count": 19,
     "metadata": {},
     "output_type": "execute_result"
    }
   ],
   "source": [
    "#checking to see that drop worked\n",
    "df1.shape"
   ]
  },
  {
   "cell_type": "code",
   "execution_count": 28,
   "metadata": {},
   "outputs": [
    {
     "data": {
      "text/plain": [
       "0.0834840956599816"
      ]
     },
     "execution_count": 28,
     "metadata": {},
     "output_type": "execute_result"
    }
   ],
   "source": [
    "#to test the model, we can put in new numbers\n",
    "#R, R2, RMSE, we can use as well to see how good model is\n",
    "\n",
    "#calculate our R2 with sklearn to evaluate our model\n",
    "fit_model.score(X_test,y_test)"
   ]
  },
  {
   "cell_type": "code",
   "execution_count": null,
   "metadata": {},
   "outputs": [],
   "source": [
    "#our R2 is pretty bad\n",
    "# we could add predictors or drop predictors to see if this model improves\n"
   ]
  }
 ],
 "metadata": {
  "kernelspec": {
   "display_name": "Python 3",
   "language": "python",
   "name": "python3"
  },
  "language_info": {
   "codemirror_mode": {
    "name": "ipython",
    "version": 3
   },
   "file_extension": ".py",
   "mimetype": "text/x-python",
   "name": "python",
   "nbconvert_exporter": "python",
   "pygments_lexer": "ipython3",
   "version": "3.8.5"
  }
 },
 "nbformat": 4,
 "nbformat_minor": 4
}
